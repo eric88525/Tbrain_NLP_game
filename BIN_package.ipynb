{
  "nbformat": 4,
  "nbformat_minor": 0,
  "metadata": {
    "colab": {
      "name": "BIN_package",
      "provenance": [],
      "collapsed_sections": [],
      "include_colab_link": true
    },
    "kernelspec": {
      "name": "python3",
      "display_name": "Python 3"
    },
    "accelerator": "GPU"
  },
  "cells": [
    {
      "cell_type": "markdown",
      "metadata": {
        "id": "view-in-github",
        "colab_type": "text"
      },
      "source": [
        "<a href=\"https://colab.research.google.com/github/eric88525/Tbrain_NLP_game/blob/master/BIN_package.ipynb\" target=\"_parent\"><img src=\"https://colab.research.google.com/assets/colab-badge.svg\" alt=\"Open In Colab\"/></a>"
      ]
    },
    {
      "cell_type": "markdown",
      "metadata": {
        "id": "SnhG9bWCmSAq",
        "colab_type": "text"
      },
      "source": [
        "# 洗錢新聞分類器"
      ]
    },
    {
      "cell_type": "code",
      "metadata": {
        "id": "37bMWL6D8zno",
        "colab_type": "code",
        "colab": {
          "base_uri": "https://localhost:8080/",
          "height": 357
        },
        "outputId": "87dba09a-c590-4554-9d7e-e58bd3b02b6b"
      },
      "source": [
        "!nvidia-smi"
      ],
      "execution_count": null,
      "outputs": [
        {
          "output_type": "stream",
          "text": [
            "Sat Aug  1 05:41:13 2020       \n",
            "+-----------------------------------------------------------------------------+\n",
            "| NVIDIA-SMI 450.57       Driver Version: 418.67       CUDA Version: 10.1     |\n",
            "|-------------------------------+----------------------+----------------------+\n",
            "| GPU  Name        Persistence-M| Bus-Id        Disp.A | Volatile Uncorr. ECC |\n",
            "| Fan  Temp  Perf  Pwr:Usage/Cap|         Memory-Usage | GPU-Util  Compute M. |\n",
            "|                               |                      |               MIG M. |\n",
            "|===============================+======================+======================|\n",
            "|   0  Tesla T4            Off  | 00000000:00:04.0 Off |                    0 |\n",
            "| N/A   45C    P8     9W /  70W |      0MiB / 15079MiB |      0%      Default |\n",
            "|                               |                      |                 ERR! |\n",
            "+-------------------------------+----------------------+----------------------+\n",
            "                                                                               \n",
            "+-----------------------------------------------------------------------------+\n",
            "| Processes:                                                                  |\n",
            "|  GPU   GI   CI        PID   Type   Process name                  GPU Memory |\n",
            "|        ID   ID                                                   Usage      |\n",
            "|=============================================================================|\n",
            "|  No running processes found                                                 |\n",
            "+-----------------------------------------------------------------------------+\n"
          ],
          "name": "stdout"
        }
      ]
    },
    {
      "cell_type": "code",
      "metadata": {
        "id": "CIjhvFyLXU9n",
        "colab_type": "code",
        "colab": {
          "base_uri": "https://localhost:8080/",
          "height": 51
        },
        "outputId": "9a944558-9d14-45f6-be79-1f59e9925db8"
      },
      "source": [
        "from google.colab import drive\n",
        "drive.mount(\"/content/drive\", force_remount=True)\n",
        "!mkdir -p drive\n",
        "!google-drive-ocamlfuse drive"
      ],
      "execution_count": null,
      "outputs": [
        {
          "output_type": "stream",
          "text": [
            "Mounted at /content/drive\n",
            "/bin/bash: google-drive-ocamlfuse: command not found\n"
          ],
          "name": "stdout"
        }
      ]
    },
    {
      "cell_type": "code",
      "metadata": {
        "id": "g5cWZWqHXVLc",
        "colab_type": "code",
        "colab": {
          "base_uri": "https://localhost:8080/",
          "height": 938
        },
        "outputId": "e66ae49b-618d-4c65-8816-d5dc094b19aa"
      },
      "source": [
        "!pip install transformers\n",
        "!pip install opencc\n",
        "!pip install pyprind\n",
        "!pip install zhon\n",
        "!pip install -U ckiptagger[tfgpu,gdown]"
      ],
      "execution_count": null,
      "outputs": [
        {
          "output_type": "stream",
          "text": [
            "Requirement already satisfied: transformers in /usr/local/lib/python3.6/dist-packages (3.0.2)\n",
            "Requirement already satisfied: tqdm>=4.27 in /usr/local/lib/python3.6/dist-packages (from transformers) (4.41.1)\n",
            "Requirement already satisfied: tokenizers==0.8.1.rc1 in /usr/local/lib/python3.6/dist-packages (from transformers) (0.8.1rc1)\n",
            "Requirement already satisfied: requests in /usr/local/lib/python3.6/dist-packages (from transformers) (2.23.0)\n",
            "Requirement already satisfied: numpy in /usr/local/lib/python3.6/dist-packages (from transformers) (1.18.5)\n",
            "Requirement already satisfied: sacremoses in /usr/local/lib/python3.6/dist-packages (from transformers) (0.0.43)\n",
            "Requirement already satisfied: packaging in /usr/local/lib/python3.6/dist-packages (from transformers) (20.4)\n",
            "Requirement already satisfied: filelock in /usr/local/lib/python3.6/dist-packages (from transformers) (3.0.12)\n",
            "Requirement already satisfied: dataclasses; python_version < \"3.7\" in /usr/local/lib/python3.6/dist-packages (from transformers) (0.7)\n",
            "Requirement already satisfied: sentencepiece!=0.1.92 in /usr/local/lib/python3.6/dist-packages (from transformers) (0.1.91)\n",
            "Requirement already satisfied: regex!=2019.12.17 in /usr/local/lib/python3.6/dist-packages (from transformers) (2019.12.20)\n",
            "Requirement already satisfied: certifi>=2017.4.17 in /usr/local/lib/python3.6/dist-packages (from requests->transformers) (2020.6.20)\n",
            "Requirement already satisfied: idna<3,>=2.5 in /usr/local/lib/python3.6/dist-packages (from requests->transformers) (2.10)\n",
            "Requirement already satisfied: chardet<4,>=3.0.2 in /usr/local/lib/python3.6/dist-packages (from requests->transformers) (3.0.4)\n",
            "Requirement already satisfied: urllib3!=1.25.0,!=1.25.1,<1.26,>=1.21.1 in /usr/local/lib/python3.6/dist-packages (from requests->transformers) (1.24.3)\n",
            "Requirement already satisfied: click in /usr/local/lib/python3.6/dist-packages (from sacremoses->transformers) (7.1.2)\n",
            "Requirement already satisfied: joblib in /usr/local/lib/python3.6/dist-packages (from sacremoses->transformers) (0.16.0)\n",
            "Requirement already satisfied: six in /usr/local/lib/python3.6/dist-packages (from sacremoses->transformers) (1.15.0)\n",
            "Requirement already satisfied: pyparsing>=2.0.2 in /usr/local/lib/python3.6/dist-packages (from packaging->transformers) (2.4.7)\n",
            "Requirement already satisfied: opencc in /usr/local/lib/python3.6/dist-packages (1.1.1.post1)\n",
            "Requirement already satisfied: pyprind in /usr/local/lib/python3.6/dist-packages (2.11.2)\n",
            "Requirement already satisfied: zhon in /usr/local/lib/python3.6/dist-packages (1.1.5)\n",
            "Requirement already up-to-date: ckiptagger[gdown,tfgpu] in /usr/local/lib/python3.6/dist-packages (0.1.1)\n",
            "Requirement already satisfied, skipping upgrade: gdown; extra == \"gdown\" in /usr/local/lib/python3.6/dist-packages (from ckiptagger[gdown,tfgpu]) (3.6.4)\n",
            "Requirement already satisfied, skipping upgrade: tensorflow-gpu<2,>=1.13.1; extra == \"tfgpu\" in /usr/local/lib/python3.6/dist-packages (from ckiptagger[gdown,tfgpu]) (1.15.3)\n",
            "Requirement already satisfied, skipping upgrade: six in /usr/local/lib/python3.6/dist-packages (from gdown; extra == \"gdown\"->ckiptagger[gdown,tfgpu]) (1.15.0)\n",
            "Requirement already satisfied, skipping upgrade: tqdm in /usr/local/lib/python3.6/dist-packages (from gdown; extra == \"gdown\"->ckiptagger[gdown,tfgpu]) (4.41.1)\n",
            "Requirement already satisfied, skipping upgrade: requests in /usr/local/lib/python3.6/dist-packages (from gdown; extra == \"gdown\"->ckiptagger[gdown,tfgpu]) (2.23.0)\n",
            "Requirement already satisfied, skipping upgrade: keras-preprocessing>=1.0.5 in /usr/local/lib/python3.6/dist-packages (from tensorflow-gpu<2,>=1.13.1; extra == \"tfgpu\"->ckiptagger[gdown,tfgpu]) (1.1.2)\n",
            "Requirement already satisfied, skipping upgrade: termcolor>=1.1.0 in /usr/local/lib/python3.6/dist-packages (from tensorflow-gpu<2,>=1.13.1; extra == \"tfgpu\"->ckiptagger[gdown,tfgpu]) (1.1.0)\n",
            "Requirement already satisfied, skipping upgrade: gast==0.2.2 in /usr/local/lib/python3.6/dist-packages (from tensorflow-gpu<2,>=1.13.1; extra == \"tfgpu\"->ckiptagger[gdown,tfgpu]) (0.2.2)\n",
            "Requirement already satisfied, skipping upgrade: numpy<2.0,>=1.16.0 in /usr/local/lib/python3.6/dist-packages (from tensorflow-gpu<2,>=1.13.1; extra == \"tfgpu\"->ckiptagger[gdown,tfgpu]) (1.18.5)\n",
            "Requirement already satisfied, skipping upgrade: opt-einsum>=2.3.2 in /usr/local/lib/python3.6/dist-packages (from tensorflow-gpu<2,>=1.13.1; extra == \"tfgpu\"->ckiptagger[gdown,tfgpu]) (3.3.0)\n",
            "Requirement already satisfied, skipping upgrade: tensorboard<1.16.0,>=1.15.0 in /usr/local/lib/python3.6/dist-packages (from tensorflow-gpu<2,>=1.13.1; extra == \"tfgpu\"->ckiptagger[gdown,tfgpu]) (1.15.0)\n",
            "Requirement already satisfied, skipping upgrade: absl-py>=0.7.0 in /usr/local/lib/python3.6/dist-packages (from tensorflow-gpu<2,>=1.13.1; extra == \"tfgpu\"->ckiptagger[gdown,tfgpu]) (0.9.0)\n",
            "Requirement already satisfied, skipping upgrade: protobuf>=3.6.1 in /usr/local/lib/python3.6/dist-packages (from tensorflow-gpu<2,>=1.13.1; extra == \"tfgpu\"->ckiptagger[gdown,tfgpu]) (3.12.2)\n",
            "Requirement already satisfied, skipping upgrade: wheel>=0.26; python_version >= \"3\" in /usr/local/lib/python3.6/dist-packages (from tensorflow-gpu<2,>=1.13.1; extra == \"tfgpu\"->ckiptagger[gdown,tfgpu]) (0.34.2)\n",
            "Requirement already satisfied, skipping upgrade: keras-applications>=1.0.8 in /usr/local/lib/python3.6/dist-packages (from tensorflow-gpu<2,>=1.13.1; extra == \"tfgpu\"->ckiptagger[gdown,tfgpu]) (1.0.8)\n",
            "Requirement already satisfied, skipping upgrade: grpcio>=1.8.6 in /usr/local/lib/python3.6/dist-packages (from tensorflow-gpu<2,>=1.13.1; extra == \"tfgpu\"->ckiptagger[gdown,tfgpu]) (1.30.0)\n",
            "Requirement already satisfied, skipping upgrade: tensorflow-estimator==1.15.1 in /usr/local/lib/python3.6/dist-packages (from tensorflow-gpu<2,>=1.13.1; extra == \"tfgpu\"->ckiptagger[gdown,tfgpu]) (1.15.1)\n",
            "Requirement already satisfied, skipping upgrade: astor>=0.6.0 in /usr/local/lib/python3.6/dist-packages (from tensorflow-gpu<2,>=1.13.1; extra == \"tfgpu\"->ckiptagger[gdown,tfgpu]) (0.8.1)\n",
            "Requirement already satisfied, skipping upgrade: wrapt>=1.11.1 in /usr/local/lib/python3.6/dist-packages (from tensorflow-gpu<2,>=1.13.1; extra == \"tfgpu\"->ckiptagger[gdown,tfgpu]) (1.12.1)\n",
            "Requirement already satisfied, skipping upgrade: google-pasta>=0.1.6 in /usr/local/lib/python3.6/dist-packages (from tensorflow-gpu<2,>=1.13.1; extra == \"tfgpu\"->ckiptagger[gdown,tfgpu]) (0.2.0)\n",
            "Requirement already satisfied, skipping upgrade: certifi>=2017.4.17 in /usr/local/lib/python3.6/dist-packages (from requests->gdown; extra == \"gdown\"->ckiptagger[gdown,tfgpu]) (2020.6.20)\n",
            "Requirement already satisfied, skipping upgrade: chardet<4,>=3.0.2 in /usr/local/lib/python3.6/dist-packages (from requests->gdown; extra == \"gdown\"->ckiptagger[gdown,tfgpu]) (3.0.4)\n",
            "Requirement already satisfied, skipping upgrade: idna<3,>=2.5 in /usr/local/lib/python3.6/dist-packages (from requests->gdown; extra == \"gdown\"->ckiptagger[gdown,tfgpu]) (2.10)\n",
            "Requirement already satisfied, skipping upgrade: urllib3!=1.25.0,!=1.25.1,<1.26,>=1.21.1 in /usr/local/lib/python3.6/dist-packages (from requests->gdown; extra == \"gdown\"->ckiptagger[gdown,tfgpu]) (1.24.3)\n",
            "Requirement already satisfied, skipping upgrade: markdown>=2.6.8 in /usr/local/lib/python3.6/dist-packages (from tensorboard<1.16.0,>=1.15.0->tensorflow-gpu<2,>=1.13.1; extra == \"tfgpu\"->ckiptagger[gdown,tfgpu]) (3.2.2)\n",
            "Requirement already satisfied, skipping upgrade: werkzeug>=0.11.15 in /usr/local/lib/python3.6/dist-packages (from tensorboard<1.16.0,>=1.15.0->tensorflow-gpu<2,>=1.13.1; extra == \"tfgpu\"->ckiptagger[gdown,tfgpu]) (1.0.1)\n",
            "Requirement already satisfied, skipping upgrade: setuptools>=41.0.0 in /usr/local/lib/python3.6/dist-packages (from tensorboard<1.16.0,>=1.15.0->tensorflow-gpu<2,>=1.13.1; extra == \"tfgpu\"->ckiptagger[gdown,tfgpu]) (49.2.0)\n",
            "Requirement already satisfied, skipping upgrade: h5py in /usr/local/lib/python3.6/dist-packages (from keras-applications>=1.0.8->tensorflow-gpu<2,>=1.13.1; extra == \"tfgpu\"->ckiptagger[gdown,tfgpu]) (2.10.0)\n",
            "Requirement already satisfied, skipping upgrade: importlib-metadata; python_version < \"3.8\" in /usr/local/lib/python3.6/dist-packages (from markdown>=2.6.8->tensorboard<1.16.0,>=1.15.0->tensorflow-gpu<2,>=1.13.1; extra == \"tfgpu\"->ckiptagger[gdown,tfgpu]) (1.7.0)\n",
            "Requirement already satisfied, skipping upgrade: zipp>=0.5 in /usr/local/lib/python3.6/dist-packages (from importlib-metadata; python_version < \"3.8\"->markdown>=2.6.8->tensorboard<1.16.0,>=1.15.0->tensorflow-gpu<2,>=1.13.1; extra == \"tfgpu\"->ckiptagger[gdown,tfgpu]) (3.1.0)\n"
          ],
          "name": "stdout"
        }
      ]
    },
    {
      "cell_type": "code",
      "metadata": {
        "id": "02nMffqpeCRk",
        "colab_type": "code",
        "colab": {
          "base_uri": "https://localhost:8080/",
          "height": 374
        },
        "outputId": "3ce94de2-52d6-46c0-affd-fe18a5946377"
      },
      "source": [
        "import torch\n",
        "import torch.nn as nn\n",
        "from torch import optim\n",
        "from transformers import *\n",
        "import pandas as pd\n",
        "import ast\n",
        "import copy\n",
        "import os\n",
        "from time import strftime,gmtime\n",
        "from opencc import OpenCC\n",
        "import pyprind\n",
        "#from sklearn.model_selection import train_test_split\n",
        "from sklearn.utils import shuffle\n",
        "import re\n",
        "from zhon.hanzi import non_stops,stops\n",
        "import numpy as np\n",
        "import random\n",
        "print(torch.cuda.is_available())\n",
        "!nvidia-smi"
      ],
      "execution_count": null,
      "outputs": [
        {
          "output_type": "stream",
          "text": [
            "True\n",
            "Sat Aug  1 06:53:20 2020       \n",
            "+-----------------------------------------------------------------------------+\n",
            "| NVIDIA-SMI 450.57       Driver Version: 418.67       CUDA Version: 10.1     |\n",
            "|-------------------------------+----------------------+----------------------+\n",
            "| GPU  Name        Persistence-M| Bus-Id        Disp.A | Volatile Uncorr. ECC |\n",
            "| Fan  Temp  Perf  Pwr:Usage/Cap|         Memory-Usage | GPU-Util  Compute M. |\n",
            "|                               |                      |               MIG M. |\n",
            "|===============================+======================+======================|\n",
            "|   0  Tesla T4            Off  | 00000000:00:04.0 Off |                    0 |\n",
            "| N/A   73C    P8    12W /  70W |     10MiB / 15079MiB |      0%      Default |\n",
            "|                               |                      |                 ERR! |\n",
            "+-------------------------------+----------------------+----------------------+\n",
            "                                                                               \n",
            "+-----------------------------------------------------------------------------+\n",
            "| Processes:                                                                  |\n",
            "|  GPU   GI   CI        PID   Type   Process name                  GPU Memory |\n",
            "|        ID   ID                                                   Usage      |\n",
            "|=============================================================================|\n",
            "|  No running processes found                                                 |\n",
            "+-----------------------------------------------------------------------------+\n"
          ],
          "name": "stdout"
        }
      ]
    },
    {
      "cell_type": "code",
      "metadata": {
        "id": "EQs5vv2tiUoS",
        "colab_type": "code",
        "colab": {}
      },
      "source": [
        "def eval(pred, ans):\n",
        "    if bool(pred) is not bool(ans):\n",
        "        return 0\n",
        "    elif not pred and not ans:\n",
        "        return 1\n",
        "    else:\n",
        "        pred = set(pred)\n",
        "        ans = set(ans)\n",
        "        interaction_len = len(pred & ans)\n",
        "        if interaction_len == 0:\n",
        "            return 0\n",
        "\n",
        "        pred_len = len(pred)\n",
        "        ans_len = len(ans)\n",
        "        return 2 / (pred_len / interaction_len + ans_len / interaction_len)\n",
        "\n",
        "\n",
        "def eval_all(pred_list, ans_list):\n",
        "    assert len(pred_list) == len(ans_list)\n",
        "    return sum(eval(p, a) for p, a in zip(pred_list, ans_list)) / len(pred_list)"
      ],
      "execution_count": null,
      "outputs": []
    },
    {
      "cell_type": "code",
      "metadata": {
        "id": "imxxfLbnrR5d",
        "colab_type": "code",
        "colab": {
          "base_uri": "https://localhost:8080/",
          "height": 34
        },
        "outputId": "f37c5a20-2d3f-4f01-d1d1-eadd982619a5"
      },
      "source": [
        "cd ./drive/My Drive/Colab Notebooks/TBrain/nosep"
      ],
      "execution_count": null,
      "outputs": [
        {
          "output_type": "stream",
          "text": [
            "/content/drive/My Drive/Colab Notebooks/TBrain/nosep\n"
          ],
          "name": "stdout"
        }
      ]
    },
    {
      "cell_type": "code",
      "metadata": {
        "id": "54Lvy0qUjJHE",
        "colab_type": "code",
        "colab": {}
      },
      "source": [
        "class bertwwmBIN(nn.Module):\n",
        "    def __init__(self,model_name,config):\n",
        "        super(bertwwmBIN,self).__init__()\n",
        "        self.bert_model = BertModel.from_pretrained(model_name)\n",
        "        self.bi_decoder = nn.Sequential(\n",
        "            nn.Linear(config.hidden_size,1)\n",
        "            ,nn.Sigmoid()\n",
        "        )\n",
        "    def start(self):\n",
        "      nn.init.xavier_uniform_(self.bi_decoder[0].weight)\n",
        "      nn.init.constant_(self.bi_decoder[0].bias, 0)\n",
        "      nn.init.xavier_uniform_(self.bi_decoder[3].weight)\n",
        "      nn.init.constant_(self.bi_decoder[3].bias, 0)\n",
        "\n",
        "    def forward(self,input_ids=None,attention_mask=None,token_type_ids=None):\n",
        "        cls = self.bert_model(input_ids,attention_mask=attention_mask,token_type_ids=token_type_ids)[1]\n",
        "        binary = self.bi_decoder(cls)\n",
        "        return binary"
      ],
      "execution_count": null,
      "outputs": []
    },
    {
      "cell_type": "code",
      "metadata": {
        "id": "fciJvEXtX7G9",
        "colab_type": "code",
        "colab": {}
      },
      "source": [
        "class bertwwmQA(nn.Module):\n",
        "    def __init__(self,model_name,config):\n",
        "        super(bertwwmQA,self).__init__()\n",
        "        #self.bert_model = BertModel.from_pretrained(\"hfl/chinese-roberta-wwm-ext-large\")\n",
        "        \n",
        "        self.bert_model = BertModel.from_pretrained(model_name,config = config)\n",
        "        self.bi_decoder = nn.Sequential(\n",
        "            nn.Linear(config.hidden_size,config.hidden_size)\n",
        "            ,nn.Dropout(0.1)\n",
        "            ,nn.ReLU()\n",
        "            ,nn.Linear(config.hidden_size,2)\n",
        "        )\n",
        "        #self.start()\n",
        "\n",
        "    def start(self):\n",
        "      nn.init.xavier_uniform_(self.bi_decoder[0].weight)\n",
        "      nn.init.constant_(self.bi_decoder[0].bias, 0)\n",
        "      nn.init.xavier_uniform_(self.bi_decoder[3].weight)\n",
        "      nn.init.constant_(self.bi_decoder[3].bias, 0)\n",
        "\n",
        "    def forward(self,input_ids=None,attention_mask=None,token_type_ids=None):\n",
        "       # print(f'receive input_ids {input_ids}')\n",
        "\n",
        "        cls = self.bert_model(input_ids,attention_mask=attention_mask,token_type_ids=token_type_ids)[1]\n",
        "        binary = self.bi_decoder(cls)\n",
        "        return binary"
      ],
      "execution_count": null,
      "outputs": []
    },
    {
      "cell_type": "code",
      "metadata": {
        "id": "Ht9Gx-JlX82X",
        "colab_type": "code",
        "colab": {}
      },
      "source": [
        "class QAFilter():\n",
        "  def __init__(self,model_path): \n",
        "    \n",
        "    # device\n",
        "    self.device = torch.device('cuda:0') if torch.cuda.is_available() else torch.device('cpu')\n",
        "    \n",
        "    # model & tokenizer\n",
        "    model_type = 'hfl/chinese-roberta-wwm-ext'\n",
        "    config = BertConfig.from_pretrained(model_type,output_hidden_states=True)\n",
        "    self.tokenizer = BertTokenizer.from_pretrained(model_type)\n",
        "    self.model = bertwwmQA(model_type,config).to(self.device)\n",
        "    self.model.load_state_dict(torch.load(model_path)) \n",
        "  \n",
        "    # 繁簡轉換\n",
        "    self.c2tw = OpenCC('s2t') # china to tw\n",
        "    self.tw2c = OpenCC('t2s') # tw to china\n",
        "\n",
        "  def filter(self,content,name_list):\n",
        "    # name_list : a list like: ['蔡英文','陳水扁']\n",
        "    # content  : a new \"繁體新聞\"\n",
        "    # 會回傳像是 [1,0,0,1] 代表第0和3的人名是對的\n",
        "    content = self.tw2c.convert(content)\n",
        "    pred_nlist = []\n",
        "    with torch.no_grad():\n",
        "      for n in name_list:\n",
        "        nc = self.tw2c.convert(n)\n",
        "        token_tensor = self.tokenizer.encode_plus(str(nc),str(content),max_length=512,truncation=True,pad_to_max_length=True)\n",
        "        token = torch.tensor(token_tensor['input_ids']).unsqueeze(0).to(self.device)\n",
        "        segment = torch.tensor( token_tensor['token_type_ids']).unsqueeze(0).to(self.device)\n",
        "        mask = torch.tensor( token_tensor['attention_mask'] ).unsqueeze(0).to(self.device)\n",
        "        pred = self.model(input_ids=token,attention_mask=mask,token_type_ids=segment).argmax(dim=1)\n",
        "        #print(n,pred.item())\n",
        "        if pred.item() == 1:\n",
        "          pred_nlist.append(n)\n",
        "    return pred_nlist"
      ],
      "execution_count": null,
      "outputs": []
    },
    {
      "cell_type": "code",
      "metadata": {
        "id": "vQC_qWbALNZG",
        "colab_type": "code",
        "colab": {}
      },
      "source": [
        "class AML_BIN():\n",
        "  def __init__(self,model_path): \n",
        "    from opencc import OpenCC \n",
        "    # device\n",
        "    self.device = torch.device('cuda:0') if torch.cuda.is_available() else torch.device('cpu')\n",
        "    \n",
        "    # model & tokenizer\n",
        "    model_type = 'hfl/chinese-roberta-wwm-ext'\n",
        "    config = BertConfig.from_pretrained(model_type,output_hidden_states=True)\n",
        "    self.tokenizer = BertTokenizer.from_pretrained(model_type)\n",
        "    self.model = bertwwmBIN(model_type,config).to(self.device)\n",
        "    self.model.load_state_dict(torch.load(model_path)) \n",
        "  \n",
        "    # 繁簡轉換\n",
        "    self.tw2c = OpenCC('t2s') # tw to china\n",
        "\n",
        "  def bin(self,content):\n",
        "    # content  : a new \"繁體新聞\"\n",
        "    # 會回傳 True / False\n",
        "    content = self.tw2c.convert(content)\n",
        "    with torch.no_grad():\n",
        "      token_tensor = self.tokenizer.encode_plus(str(content),max_length=512,truncation=True,pad_to_max_length=True)\n",
        "      token = torch.tensor(token_tensor['input_ids']).unsqueeze(0).to(self.device)\n",
        "      segment = torch.tensor( token_tensor['token_type_ids']).unsqueeze(0).to(self.device)\n",
        "      mask = torch.tensor( token_tensor['attention_mask'] ).unsqueeze(0).to(self.device)\n",
        "      pred = self.model(input_ids=token,attention_mask=mask,token_type_ids=segment)\n",
        "      #print(pred.item())\n",
        "      if pred.item() > 0.5:\n",
        "        return True\n",
        "      else:\n",
        "        return False"
      ],
      "execution_count": null,
      "outputs": []
    },
    {
      "cell_type": "code",
      "metadata": {
        "id": "zOskd1k-YUse",
        "colab_type": "code",
        "colab": {}
      },
      "source": [
        "class mydata_nosep():\n",
        "    def __init__(self,train_path,test_path):\n",
        "\n",
        "        self.cc = OpenCC('t2s')\n",
        "        test_data = pd.read_csv(test_path)\n",
        "        # CONTENT / NAME\n",
        "        test_x = [self.clean_string(i) for i in test_data['full_content'].values.tolist()]\n",
        "        test_y = [self.name_list(i) for i in test_data['name'].values.tolist()]\n",
        "        self.test = []  # CONTENT / NAME         \n",
        "        for i in range(len(test_x)):\n",
        "          self.test.append([test_x[i],test_y[i]])\n",
        "        print(f'Test: {len(self.test)}')\n",
        "\n",
        "    def name_list(self,name_list_str):\n",
        "        ls = ast.literal_eval(name_list_str)\n",
        "        res = []\n",
        "        #cc = OpenCC('t2s')\n",
        "        for n in ls:\n",
        "          res.append(n)\n",
        "        return res        \n",
        "    def clean_string(self,content):\n",
        "      content = content.replace('\\n','。').replace('\\t','，').replace('!', '！').replace('?', '？')# erease white space cause English name error\n",
        "      content = re.sub(\"[+\\.\\/_,$%●▼►^*(+\\\"\\']+|[+——~@#￥%……&*（）★]\", \"\",content)\n",
        "      content = re.sub(r\"[%s]+\" %stops, \"。\",content)\n",
        "      #content = self.cc.convert(content)\n",
        "      return content"
      ],
      "execution_count": null,
      "outputs": []
    },
    {
      "cell_type": "code",
      "metadata": {
        "id": "h4OlTpcib0Ct",
        "colab_type": "code",
        "colab": {}
      },
      "source": [
        "def test(data,ws,pos,ner,QA,BIN):\n",
        "    print('Testing...')\n",
        "    c_to_tw = OpenCC('s2t') # chi to tw\n",
        "    tw_to_c = OpenCC('t2s')\n",
        "    all_predlist = []\n",
        "    all_labellist = []\n",
        "    with torch.no_grad():\n",
        "      for content,nlabel in data.test: # 都是繁中文\n",
        "        if BIN.bin(content):\n",
        "          ckip_nlist = []\n",
        "          pred_nlist = []\n",
        "          ws_results = ws([content])\n",
        "          pos_results = pos(ws_results)\n",
        "          ner_results = ner(ws_results, pos_results)\n",
        "          for name in ner_results[0]:\n",
        "            if name[2] == 'PERSON':\n",
        "              ckip_nlist.append(name[3])\n",
        "          ckip_nlist = set([x for x in ckip_nlist if len(x)>1])\n",
        "          pred_nlist = QA.filter(content,ckip_nlist)\n",
        "          all_labellist.append(nlabel)\n",
        "          all_predlist.append(pred_nlist)\n",
        "          #print(f'CKIP:{ckip_nlist} PRED:{pred_nlist} LABEL:{nlabel}')\n",
        "        else:\n",
        "          all_labellist.append(nlabel)\n",
        "          all_predlist.append([])\n",
        "                      \n",
        "    return all_predlist,all_labellist"
      ],
      "execution_count": null,
      "outputs": []
    },
    {
      "cell_type": "code",
      "metadata": {
        "id": "WfpPTgEKh_3y",
        "colab_type": "code",
        "colab": {
          "base_uri": "https://localhost:8080/",
          "height": 34
        },
        "outputId": "48bdf110-b822-40cd-d246-9b7972eebd7f"
      },
      "source": [
        "\n",
        "from ckiptagger import WS, POS, NER\n",
        "ws = WS(\"./data\")\n",
        "pos = POS(\"./data\")\n",
        "ner = NER(\"./data\")\n",
        "print('CKIP finish')\n"
      ],
      "execution_count": null,
      "outputs": [
        {
          "output_type": "stream",
          "text": [
            "CKIP finish\n"
          ],
          "name": "stdout"
        }
      ]
    },
    {
      "cell_type": "code",
      "metadata": {
        "id": "2qje9nAFbPCn",
        "colab_type": "code",
        "colab": {}
      },
      "source": [
        "qa = QAFilter('./saved_models/qaFilter.pt')\n",
        "bin = AML_BIN('./saved_models/BIN.pt')"
      ],
      "execution_count": null,
      "outputs": []
    },
    {
      "cell_type": "code",
      "metadata": {
        "id": "PyavsiqUZsFT",
        "colab_type": "code",
        "colab": {
          "base_uri": "https://localhost:8080/",
          "height": 1000
        },
        "outputId": "a795c321-512b-43f7-c4f4-cbd11ce059f0"
      },
      "source": [
        "for i in range(1,11):\n",
        "  trainpath = ''\n",
        "  testpath = './datasetALL/dataset' + str(i) + '/tbrain_test.csv'\n",
        "  print(testpath)\n",
        "  mydata = mydata_nosep('./data3/tbrain_train.csv',testpath)\n",
        "  pred,label = test(mydata,ws,pos,ner,qa,bin)\n",
        "  print(pred)\n",
        "  print(label)\n",
        "  print(eval_all(pred,label))\n",
        "  print('=================================================')"
      ],
      "execution_count": null,
      "outputs": [
        {
          "output_type": "stream",
          "text": [
            "./datasetALL/dataset1/tbrain_test.csv\n",
            "Test: 491\n",
            "Testing...\n",
            "[[], [], [], [], [], [], [], [], [], [], [], [], [], ['賴俊吉'], [], [], ['陳揚宗'], [], [], [], [], [], [], ['王益洲'], [], [], [], [], [], [], [], [], [], [], ['李士綸', '吳哲瑋李'], [], [], [], [], [], [], [], [], [], [], [], [], [], [], [], [], [], [], [], [], [], [], [], [], [], [], [], [], [], [], [], [], [], [], [], [], [], [], [], [], [], [], [], [], [], [], [], [], ['林志聰', '伍政山'], [], [], [], [], [], [], [], [], [], [], [], [], [], ['張承平'], [], [], [], [], [], [], ['雷俊玲'], [], [], [], [], [], [], [], [], [], [], [], [], [], [], [], [], [], [], [], [], [], [], [], [], [], [], [], [], [], [], [], [], [], [], [], [], [], [], [], ['徐仲榮', '陳仕修'], [], ['林煒智', '周漢祥', '林睿耆', '林昱伯'], [], [], ['童仲彥', '秦儷舫'], [], [], [], [], ['蘇怡寧'], [], [], [], [], [], [], [], [], [], [], [], [], [], [], [], [], [], [], [], [], [], [], ['王禹婕', '林育賢'], [], [], [], [], [], [], [], [], [], [], [], ['詹舜淇'], [], [], [], [], [], [], [], [], [], [], [], [], [], ['黃世陽', '黃顯雄', '曹興誠'], [], [], [], [], [], [], [], [], [], [], [], [], [], [], [], [], [], [], [], [], ['江東原', '張欽堯', '葉大慧', '吳孝昌', '吳國昌', '魏君婷'], [], [], [], [], [], [], [], [], [], ['黃梅雪', '李宛霞'], ['黃振榮', '陳武騰'], ['許長裕'], [], [], ['李訓成', '蔡開宇', '王宇正'], [], [], [], ['楊正平', '蔡思庭'], [], [], [], [], [], [], [], ['葉美麗', '賴麗團', '郭雅雯', '林勇任'], [], ['柯怡伶', '陳瑞芳', '陳澤信'], [], [], ['林煜傑', '李文潔', '李育英'], [], [], [], [], [], [], [], [], [], [], [], [], [], [], [], [], [], [], [], [], [], [], [], [], [], [], [], [], [], [], [], [], [], [], ['汪惠南', '周榮華', '崔明禮'], [], [], ['陳功源', '黃泳學', '羅栩亮', '黃聲儀', '黃馨儀'], [], [], [], [], [], [], [], [], [], [], [], [], [], ['洪正義'], [], [], [], [], [], [], ['鍾增林'], [], ['王毓雅', '羅瑞榮'], [], [], [], [], [], ['蔡文娟'], [], [], [], [], [], [], [], [], [], [], [], [], [], [], [], [], [], [], [], [], [], [], [], [], [], [], [], [], [], [], [], [], [], [], [], [], [], [], [], [], [], [], [], [], [], [], [], [], [], [], ['柯賜海'], [], [], [], [], ['吳承霖', '黃文鴻', '陳玟叡'], [], [], [], [], [], ['賴素如'], [], [], [], [], [], [], [], [], [], [], [], [], [], [], [], [], [], [], [], [], [], [], [], [], [], [], [], [], [], [], [], [], [], [], [], [], [], [], [], [], [], [], [], [], [], [], [], [], [], [], [], [], ['謝宥宏'], [], [], [], [], [], [], [], [], [], ['郭政權'], [], [], [], [], [], [], [], [], [], [], [], [], ['吳承霖', '陳玟叡'], [], [], [], [], [], [], [], [], [], [], ['何壽川'], [], [], [], [], [], [], [], [], ['陳清江'], [], [], [], [], [], [], [], [], []]\n",
            "[[], [], [], [], [], [], [], [], [], [], [], [], [], ['賴俊吉'], [], [], ['陳揚宗'], [], [], [], [], [], [], ['王益洲'], [], [], [], [], [], [], [], [], [], [], ['李士綸', '吳哲瑋'], [], [], [], [], [], [], [], [], [], [], [], [], [], [], [], [], [], [], [], [], [], [], [], [], [], [], [], [], [], [], [], [], [], [], [], [], [], [], [], [], [], [], [], [], [], [], [], [], ['伍政山', '林志聰'], [], [], [], [], [], [], [], [], [], [], [], [], [], ['張承平'], [], [], [], [], [], [], ['雷俊玲'], [], [], [], [], [], [], [], [], [], [], [], [], [], [], [], [], [], [], [], [], [], [], [], [], [], [], [], [], [], [], [], [], [], [], [], [], [], [], [], ['陳仕修', '徐仲榮'], [], ['林昱伯', '周漢祥', '林煒智', '林睿耆'], [], [], ['童仲彥', '秦儷舫'], [], [], [], [], ['蘇怡寧'], [], [], [], [], [], [], [], [], [], [], [], [], [], [], [], [], [], [], [], [], [], [], ['王禹婕', '林育賢'], [], [], [], [], [], [], [], [], [], [], [], ['詹舜淇', '詹雅琳', '詹信夫', '方俐婷'], [], [], [], [], [], [], [], [], [], [], [], [], [], ['黃世陽', '黃顯雄'], [], [], [], [], [], [], [], [], [], [], [], [], [], [], [], [], [], [], [], [], ['張欽堯', '江東原', '葉大慧', '魏君婷', '吳國昌', '吳孝昌'], [], [], [], [], [], [], [], [], [], ['李宛霞', '黃梅雪'], ['黃振榮', '陳武騰'], ['許長裕'], [], [], ['蔡開宇', '王宇正', '李訓成'], [], [], [], ['楊正平', '蔡思庭'], [], [], [], [], [], [], [], ['葉美麗', '郭雅雯', '賴麗團', '林勇任'], [], ['陳澤信', '陳瑞芳'], [], [], ['林煜傑', '李育英'], [], [], [], [], [], [], [], [], [], [], [], [], [], [], [], [], [], [], [], [], [], [], [], [], [], [], [], [], [], [], [], [], [], [], ['崔明禮', '汪惠南', '周榮華'], [], [], ['黃馨儀', '黃泳學', '羅栩亮', '黃聲儀', '陳功源'], [], [], [], [], [], [], [], [], [], [], [], [], [], ['洪正義'], [], [], [], [], [], [], ['鍾增林', '曾國財'], [], ['王毓雅', '羅瑞榮'], [], [], [], [], [], ['蔡文娟'], [], [], [], [], [], [], [], [], [], [], [], [], [], [], [], [], [], [], [], [], [], [], [], [], [], [], [], [], [], [], [], [], [], [], [], [], [], [], [], [], [], [], [], [], [], [], [], [], [], [], ['柯賜海'], [], [], [], [], ['陳玟叡', '黃文鴻', '吳承霖'], [], [], [], [], [], ['賴素如'], [], [], [], [], [], [], [], [], [], [], [], [], [], [], [], [], [], [], [], [], [], [], [], [], [], [], [], [], [], [], [], [], [], [], [], [], [], [], [], [], [], [], [], [], [], [], [], [], [], [], [], [], ['謝宥宏'], [], [], [], [], [], [], [], [], [], ['郭政權'], [], [], [], [], [], [], [], [], [], [], [], [], ['吳承霖', '陳玟叡'], [], [], [], [], [], [], [], [], [], [], ['何壽川'], [], [], [], [], [], [], [], [], ['陳清江'], [], [], [], [], [], [], [], [], []]\n",
            "0.995858791581806\n",
            "=================================================\n",
            "./datasetALL/dataset2/tbrain_test.csv\n",
            "Test: 491\n",
            "Testing...\n",
            "[[], [], [], [], [], [], [], [], [], [], ['王安石', '宋芷妍'], [], [], [], [], [], [], [], [], [], [], [], [], [], [], [], [], [], [], [], [], [], [], [], [], [], ['房立勳'], [], [], [], [], [], [], [], [], [], [], [], [], [], [], [], [], [], [], [], [], [], [], [], [], [], [], [], [], [], [], [], [], [], [], [], ['蕫繆竹怡', '繆竹怡'], [], [], ['陳建飛'], [], [], ['吳淑珍', '王隆昌'], [], [], ['劉威甫', '張桂銘'], [], [], [], [], [], [], [], [], [], [], [], [], [], [], ['邱嘉進'], [], [], [], ['陳宣銘'], [], [], [], [], [], [], [], [], [], [], [], [], [], [], [], [], [], [], [], [], [], [], [], [], [], [], [], [], [], [], [], [], [], ['王紀棠', '林詩芳', '謝巧莉', '王敲單', '許家榮', '殷倜凡', '林維俊'], [], [], ['姚慶佳男', '姚慶佳'], ['吳運豐'], ['鄭銘富', '李春生', '黃建強', '呂家緯', '高振殷', '周正華'], [], [], [], [], [], [], ['道克明', '鄧超鴻'], [], [], [], [], [], [], [], [], ['汪惠南', '周榮華', '崔明禮'], [], [], [], [], [], [], [], [], [], [], [], [], [], [], [], [], [], [], [], ['畢鈞輝', '蔡賜爵'], [], [], [], [], [], [], [], [], [], [], [], ['陳韋霖'], [], [], [], [], ['張哲維', '柯志龍'], [], [], [], [], [], [], [], [], [], [], [], [], [], [], ['蒲念慈'], [], ['詹舜淇'], [], [], [], [], [], [], [], [], [], [], [], [], [], [], [], [], [], [], [], [], [], [], [], [], [], [], [], [], [], [], ['侯君鍵'], [], [], [], [], ['李孟謙', '于曉艷', '于曉燕'], [], [], [], [], [], [], ['楚瑞芳'], [], [], [], [], [], ['鍾增林'], [], [], [], [], [], ['李榮華'], [], [], [], [], ['朱小蓉'], [], [], [], [], [], [], [], [], ['彭振源', '鍾榮昌', '王澤生', '楚瑞芳'], [], [], [], [], [], [], [], [], [], [], [], [], [], [], [], [], [], [], [], [], [], [], [], [], [], [], [], [], [], [], [], ['賴嚮景', '陳俊宏'], [], [], [], [], [], [], [], [], [], [], [], [], [], [], [], [], ['李佰全', '林陀桂英', '李樹欉', '葉玲'], [], [], [], [], ['林政賢'], [], [], [], [], [], [], [], [], [], [], [], [], [], [], ['楊治渝'], [], [], [], [], [], [], [], [], [], [], ['魯德海', '張建華', '劉吉雄', '呂宗南', '吳東明', '楊自立', '裴振福', '林輝宏'], [], [], ['康明璋', '葉冠廷'], [], [], [], [], [], [], [], [], [], [], [], [], [], [], [], ['何培才'], [], [], [], [], [], [], [], [], [], [], [], [], [], [], [], [], [], [], [], [], [], [], [], [], [], [], [], [], [], [], [], [], [], [], [], [], [], [], [], [], [], [], [], [], [], [], [], [], [], [], [], [], [], [], ['黃鈺蘋', '顏雪藝', '黃子愛', '呂翠峰'], [], [], [], [], [], [], [], [], [], [], [], [], [], ['羅秋英', '陳斯婷'], [], [], [], [], [], [], [], [], [], [], [], [], ['王益洲'], [], [], [], [], [], [], [], [], [], [], [], [], [], [], [], [], [], [], [], ['蔡文旭', '孫岳澤', '李欣潔', '張治忠', '黃振龍', '張道銘'], [], [], [], [], [], [], [], [], [], [], []]\n",
            "[[], [], [], [], [], [], [], [], [], [], ['宋芷妍', '王安石'], [], [], [], [], [], [], [], [], [], [], [], [], [], [], [], [], [], [], [], [], [], [], [], [], [], ['房立勳'], [], [], [], [], [], [], [], [], [], [], [], [], [], [], [], [], [], [], [], [], [], [], [], [], [], [], [], [], [], [], [], [], [], [], [], ['繆竹怡'], [], [], ['陳建飛'], [], [], ['王隆昌', '吳淑珍'], [], [], ['劉威甫', '張桂銘'], [], [], [], [], [], [], [], [], [], [], [], [], [], [], ['邱嘉進'], [], [], [], ['陳宣銘'], [], [], [], [], [], [], [], [], [], [], [], [], [], [], [], [], [], [], [], [], [], [], [], [], [], [], [], [], [], [], [], [], [], ['謝巧莉', '王紀棠', '許家榮', '殷倜凡', '林詩芳'], [], [], ['姚慶佳'], ['吳運豐'], ['鄭銘富', '呂家緯', '李春生', '黃建強', '周正華', '高振殷'], [], [], [], [], [], [], ['鄧超鴻', '道克明'], [], [], [], [], [], [], [], [], ['崔明禮', '汪惠南', '周榮華'], [], [], [], [], [], [], [], [], [], [], [], [], [], [], [], [], [], [], [], ['蔡賜爵', '畢鈞輝'], [], [], [], [], [], [], [], [], [], [], [], ['陳韋霖'], [], [], [], [], ['柯志龍', '張哲維'], [], [], [], [], [], [], [], [], [], [], [], [], [], [], ['蒲念慈'], [], ['詹舜淇', '詹雅琳', '詹信夫', '方俐婷'], [], [], [], [], [], [], [], [], [], [], [], [], [], [], [], [], [], [], [], [], [], [], [], [], [], [], [], [], [], [], ['侯君鍵'], [], [], [], [], ['李孟謙', '于曉艷', '于曉燕'], [], [], [], [], [], [], ['楚瑞芳'], [], [], [], [], [], ['鍾增林', '曾國財'], [], [], [], [], [], ['李榮華'], [], [], [], [], ['朱小蓉'], [], [], [], [], [], [], [], [], ['彭振源', '王澤生', '楚瑞芳'], [], [], [], [], [], [], [], [], [], [], [], [], [], [], [], [], [], [], [], [], [], [], [], [], [], [], [], [], [], [], [], ['陳俊宏', '賴嚮景'], [], [], [], [], [], [], [], [], [], [], [], [], [], [], [], [], ['李佰全', '葉玲', '林陀桂英'], [], [], [], [], ['林政賢'], [], [], [], [], [], [], [], [], [], [], [], [], [], [], ['楊治渝'], [], [], [], [], [], [], [], [], [], [], ['魯德海', '裴振福', '呂宗南', '楊自立', '劉吉雄', '林輝宏', '吳東明', '張建華'], [], [], ['康明璋', '葉冠廷'], [], [], [], [], [], [], [], [], [], [], [], [], [], [], [], ['何培才'], [], [], [], [], [], [], [], [], [], [], [], [], [], [], [], [], [], [], [], [], [], [], [], [], [], [], [], [], [], [], [], [], [], [], [], [], [], [], [], [], [], [], [], [], [], [], [], [], [], [], [], [], [], [], ['黃鈺蘋', '黃子愛', '顏雪藝', '呂翠峰'], [], [], [], [], [], [], [], [], [], [], [], [], [], ['羅秋英', '陳斯婷'], [], [], [], [], [], [], [], [], [], [], [], [], ['王益洲'], [], [], [], [], [], [], [], [], [], [], [], [], [], [], [], [], [], [], [], ['蔡文旭', '黃振龍', '張治忠', '張道銘', '孫岳澤', '李欣潔'], [], [], [], [], [], [], [], [], [], [], []]\n",
            "0.995819998060324\n",
            "=================================================\n",
            "./datasetALL/dataset3/tbrain_test.csv\n",
            "Test: 491\n",
            "Testing...\n",
            "[[], [], [], [], [], [], ['李孟謙', '于曉艷', '于曉燕'], [], [], [], [], [], [], [], [], [], [], [], [], [], [], [], [], ['崔培明'], [], [], [], [], [], [], [], [], ['畢鈞輝', '蔡賜爵'], [], [], [], [], [], [], [], [], [], [], [], [], [], [], [], ['陳韋霖'], [], [], [], [], [], [], [], [], [], [], [], [], ['林欣月', '林依成'], [], [], [], [], [], [], [], [], [], [], [], [], [], [], [], [], [], [], [], ['余信憲', '黃薪哲'], [], [], [], [], [], [], [], [], [], [], [], [], [], [], [], [], [], [], [], [], [], [], [], [], [], [], [], ['洪勝明'], [], [], ['葉麗珍', '葉麗貞', '陳耀東', '趙鈞震'], [], [], [], [], [], [], [], [], [], [], [], [], [], [], [], [], [], [], [], [], [], ['曾美菁', '陳清裕', '林愈得'], [], [], [], [], [], [], [], ['葉美麗', '賴麗團', '郭雅雯', '林勇任'], [], [], [], ['林銘宏', '蔡維峻'], [], [], [], [], [], [], [], [], [], [], [], [], [], [], [], [], [], [], [], [], [], [], [], [], [], [], [], [], [], [], [], [], [], [], [], [], [], [], ['張承平'], [], [], [], [], [], [], [], [], [], [], [], [], [], [], [], [], [], [], [], [], [], [], [], [], ['楊嘉仁'], [], [], [], [], [], [], [], [], [], [], [], [], ['楊昇穎', '周宗賢'], [], [], [], [], [], [], [], [], [], [], [], [], [], ['卓國華'], [], [], [], ['黃惠欣', '楊富巖', '戴盛世'], [], ['許祈文'], [], [], [], [], [], [], [], [], [], [], [], [], [], [], [], [], [], [], [], [], [], [], [], [], [], [], [], [], [], [], [], [], [], [], [], ['李維凱'], [], [], [], [], ['劉奕發', '歐炳辰', '林清井'], ['陳發貴'], [], [], [], [], [], [], ['王延順'], [], [], [], ['孔朝'], [], ['詹昭書'], [], [], [], [], [], [], [], [], [], [], [], [], [], [], [], [], [], [], [], [], [], ['楊善淵'], ['孔繁仁', '楊富巖', '戴盛世'], [], [], [], ['林繼蘇', '徐詩彥'], [], [], [], [], ['陳麗珍'], [], [], [], [], ['何培才'], [], [], [], [], [], [], [], [], [], [], ['吳淑珍', '王隆昌'], [], [], [], [], [], [], [], [], [], [], [], [], [], [], [], [], [], [], [], [], [], [], [], [], [], [], [], [], [], [], [], [], [], [], [], [], [], [], [], [], [], [], [], [], [], [], [], [], [], [], [], [], [], [], [], [], [], [], [], ['楊正平', '蔡思庭'], [], [], [], [], [], [], [], [], [], [], [], [], [], [], [], [], [], [], [], [], [], [], [], [], [], [], [], [], [], [], [], [], [], [], [], [], [], [], [], [], [], [], [], [], [], ['葉鯤璟今', '葉鯤璟'], [], [], [], [], ['黃丹怡'], [], [], [], [], [], [], [], [], [], [], [], [], [], [], [], ['王春甡', '江智銓', '王柏森', '江智詮'], [], [], [], [], [], [], ['吳銀嵐', '張安樂', '吳金虎'], [], [], [], ['蒲念慈'], ['紀雅玲'], [], ['李黃錦燕'], [], [], []]\n",
            "[[], [], [], [], [], [], ['李孟謙', '于曉艷', '于曉燕'], [], [], [], [], [], [], [], [], [], [], [], [], [], [], [], [], ['崔培明'], [], [], [], [], [], [], [], [], ['蔡賜爵', '畢鈞輝'], [], [], [], [], [], [], [], [], [], [], [], [], [], [], [], ['陳韋霖'], [], [], [], [], [], [], [], [], [], [], [], [], ['林欣月'], [], [], [], [], [], [], [], [], [], [], [], [], [], [], [], [], [], [], [], ['黃薪哲'], [], [], [], [], [], [], [], [], [], [], [], [], [], [], [], [], [], [], [], [], [], [], [], [], [], [], [], ['洪勝明'], [], [], ['陳耀東', '葉麗珍', '葉麗貞', '趙鈞震'], [], [], [], [], [], [], [], [], [], [], [], [], [], [], [], [], [], [], [], [], [], ['曾盛麟', '陳清裕', '曾美菁', '林愈得'], [], [], [], [], [], [], [], ['葉美麗', '郭雅雯', '賴麗團', '林勇任'], [], [], [], ['林銘宏', '蔡維峻'], [], [], [], [], [], [], [], [], [], [], [], [], [], [], [], [], [], [], [], [], [], [], [], [], [], [], [], [], [], [], [], [], [], [], [], [], [], [], ['張承平'], [], [], [], [], [], [], [], [], [], [], [], [], [], [], [], [], [], [], [], [], [], [], [], [], ['楊嘉仁'], [], [], [], [], [], [], [], [], [], [], [], [], ['楊昇穎', '周宗賢'], [], [], [], [], [], [], [], [], [], [], [], [], [], ['卓國華'], [], [], [], ['楊富巖', '戴盛世'], [], ['許祈文'], [], [], [], [], [], [], [], [], [], [], [], [], [], [], [], [], [], [], [], [], [], [], [], [], [], [], [], [], [], [], [], [], [], [], [], ['李維凱'], [], [], [], [], ['歐炳辰', '林清井', '劉奕發'], ['陳發貴'], [], [], [], [], [], [], ['王延順'], [], [], [], ['孔朝'], [], ['詹昭書'], [], [], [], [], [], [], [], [], [], [], [], [], [], [], [], [], [], [], [], [], [], ['楊善淵'], ['孔繁仁', '楊富巖', '戴盛世'], [], [], [], ['林繼蘇', '徐詩彥'], [], [], [], [], ['陳麗珍'], [], [], [], [], ['何培才'], [], [], [], [], [], [], [], [], [], [], ['王隆昌', '吳淑珍'], [], [], [], [], [], [], [], [], [], [], [], [], [], [], [], [], [], [], [], [], [], [], [], [], [], [], [], [], [], [], [], [], [], [], [], [], [], [], [], [], [], [], [], [], [], [], [], [], [], [], [], [], [], [], [], [], [], [], [], ['楊正平', '蔡思庭'], [], [], [], [], [], [], [], [], [], [], [], [], [], [], [], [], [], [], [], [], [], [], [], [], [], [], [], [], [], [], [], [], [], [], [], [], [], [], [], [], [], [], [], [], [], ['葉鯤璟'], [], [], [], [], ['洪丞俊', '黃丹怡'], [], [], [], [], [], [], [], [], [], [], [], [], [], [], [], ['王春甡', '王柏森'], [], [], [], [], [], [], ['吳金虎', '吳銀嵐'], [], [], [], ['蒲念慈'], ['紀雅玲'], [], ['李黃錦燕'], [], [], []]\n",
            "0.9954999515080983\n",
            "=================================================\n",
            "./datasetALL/dataset4/tbrain_test.csv\n",
            "Test: 491\n",
            "Testing...\n",
            "[[], [], [], [], [], [], [], [], [], [], [], [], [], [], [], [], [], [], [], [], [], [], ['林錫山'], [], [], [], ['楊善淵'], [], [], [], [], [], [], [], [], [], [], [], [], [], ['楊仕豪', '尤嵩斌', '楊仕銘'], [], [], [], [], [], [], [], [], [], [], [], ['陳志遇', '陳威廷', '劉欣燕', '陳富榮', '林玉華'], [], [], [], [], ['林聖凱', '吳佳駿'], [], [], [], [], [], [], [], [], [], [], [], [], [], [], [], [], [], [], [], [], ['鮑廣廷', '傅崐萁'], [], [], [], [], [], [], ['王派宏'], [], [], [], [], [], [], [], [], [], [], ['羅秋英', '陳斯婷'], [], [], [], [], [], [], [], [], [], [], [], [], [], [], [], [], [], [], ['魯德海', '張建華', '劉吉雄', '呂宗南', '吳東明', '楊自立', '裴振福', '林輝宏'], [], [], [], [], [], [], [], [], [], [], [], ['林煒智', '周漢祥', '林睿耆', '林昱伯'], [], [], [], [], [], [], [], [], [], [], [], [], [], [], [], [], [], [], [], [], [], ['王春甡', '江智銓', '王柏森', '江智詮'], [], [], [], [], [], [], [], [], [], [], [], [], [], ['陳國楨', '周瑞慶', '陳子龍', '林麗令', '蔡豐益', '簡麗珠', '黃雁宸', '夏子茵', '陳東豐', '賴金鑫', '吳松麟', '蔡尚苑', '黃子窈', '陳進村', '李金龍'], [], [], [], [], [], [], [], [], [], [], [], [], [], [], [], [], [], [], [], [], ['紀雅玲'], [], [], [], [], [], [], [], [], [], [], [], [], [], [], [], [], [], [], [], [], [], [], [], ['林煜傑', '李文潔', '李育英'], [], [], [], [], [], [], [], [], [], [], [], [], [], [], [], [], [], [], [], [], [], [], [], [], [], ['童仲彥', '秦儷舫'], [], [], [], [], [], [], [], [], [], [], [], ['陳淳伍'], [], [], [], [], [], [], [], [], [], [], [], [], [], [], [], [], [], [], [], [], [], [], [], [], [], [], [], [], [], [], [], ['葉添洽'], [], [], ['林西田', '王際平', '陳建閣'], [], [], [], [], [], [], [], [], [], [], [], [], ['林錫山'], [], [], [], [], [], ['吳銀嵐', '張安樂', '吳金虎'], ['楊正平', '蔡思庭'], [], ['謝淑美'], ['陳文宏'], [], [], [], [], [], [], [], [], [], [], [], [], [], [], [], [], [], [], [], [], [], [], [], [], [], ['鄭安秝', '陳粹鑾'], [], [], [], [], [], [], ['朱松偉'], [], [], [], [], [], [], [], [], [], [], [], [], [], [], [], [], ['王芃迪'], [], ['李岳怡', '鄭銘坤'], [], ['賴信機'], [], [], [], [], [], [], [], [], [], [], ['趙瑩潔', '郭展緁'], [], [], [], [], [], [], [], [], [], [], [], [], [], [], [], [], [], [], [], ['張智冠'], [], [], [], [], [], [], [], ['林育佑'], [], [], [], [], ['藍秀琪', '王桂霜', '李威儀'], [], [], [], [], [], [], [], [], [], [], [], [], [], [], [], [], [], [], [], [], [], [], [], [], [], [], ['周世洋'], [], [], ['李克毅', '趙藤雄', '趙信清'], [], [], [], [], [], [], [], [], [], [], [], ['溫良明', '林啟賢'], [], [], [], [], [], [], [], [], [], [], [], [], [], [], [], [], ['鄭銘富', '李春生', '黃建強', '呂家緯', '高振殷', '周正華'], [], [], [], [], [], [], [], [], [], [], [], [], [], [], [], [], [], ['李大彰', '徐金龍', '鄭博文'], [], [], [], [], [], [], [], [], [], [], []]\n",
            "[[], [], [], [], [], [], [], [], [], [], [], [], [], [], [], [], [], [], [], [], [], [], ['李保承', '陳亮吟', '劉馨蔚', '林錫山'], [], [], [], ['楊善淵'], [], [], [], [], [], [], [], [], [], [], [], [], [], ['楊仕豪', '楊仕銘', '尤嵩斌'], [], [], [], [], [], [], [], [], [], [], [], ['陳志遇', '林玉華', '陳威廷', '陳富榮', '劉欣燕'], [], [], [], [], ['吳佳駿', '林聖凱'], [], [], [], [], [], [], [], [], [], [], [], [], [], [], [], [], [], [], [], [], ['鮑廣廷'], [], [], [], [], [], [], ['王派宏'], [], [], [], [], [], [], [], [], [], [], ['羅秋英', '陳斯婷'], [], [], [], [], [], [], [], [], [], [], [], [], [], [], [], [], [], [], ['魯德海', '裴振福', '呂宗南', '楊自立', '劉吉雄', '林輝宏', '吳東明', '張建華'], [], [], [], [], [], [], [], [], [], [], [], ['林昱伯', '周漢祥', '林煒智', '林睿耆'], [], [], [], [], [], [], [], [], [], [], [], [], [], [], [], [], [], [], [], [], [], ['王春甡', '王柏森'], [], [], [], [], [], [], [], [], [], [], [], [], [], ['周瑞慶', '黃子窈', '賴金鑫', '吳松麟', '簡麗珠', '黃雁宸', '林麗令', '陳國楨', '蔡尚苑', '李金龍', '夏子茵', '陳東豐', '陳進村', '蔡豐益'], [], [], [], [], [], [], [], [], [], [], [], [], [], [], [], [], [], [], [], [], ['紀雅玲'], [], [], [], [], [], [], [], [], [], [], [], [], [], [], [], [], [], [], [], [], [], [], [], ['林煜傑', '李育英'], [], [], [], [], [], [], [], [], [], [], [], [], [], [], [], [], [], [], [], [], [], [], [], [], [], ['童仲彥', '秦儷舫'], [], [], [], [], [], [], [], [], [], [], [], ['陳淳伍'], [], [], [], [], [], [], [], [], [], [], [], [], [], [], [], [], [], [], [], [], [], [], [], [], [], [], [], [], [], [], [], ['葉添洽'], [], [], ['王際平', '林西田', '陳建閣'], [], [], [], [], [], [], [], [], [], [], [], [], ['林錫山', '李保承'], [], [], [], [], [], ['吳金虎', '吳銀嵐'], ['楊正平', '蔡思庭'], [], ['謝淑美'], ['陳文宏'], [], [], [], [], [], [], [], [], [], [], [], [], [], [], [], [], [], [], [], [], [], [], [], [], [], ['鄭安秝', '陳粹鑾'], [], [], [], [], [], [], ['朱松偉'], [], [], [], [], [], [], [], [], [], [], [], [], [], [], [], [], ['王芃迪'], [], ['鄭銘坤', '李岳怡'], [], ['賴信機'], [], [], [], [], [], [], [], [], [], [], ['趙瑩潔', '郭展緁'], [], [], [], [], [], [], [], [], [], [], [], [], [], [], [], [], [], [], [], ['張智冠'], [], [], [], [], [], [], [], ['林育佑'], [], [], [], [], ['王桂霜', '李威儀', '藍秀琪'], [], [], [], [], [], [], [], [], [], [], [], [], [], [], [], [], [], [], [], [], [], [], [], [], [], [], ['周世洋'], [], [], ['趙藤雄', '趙信清', '李克毅'], [], [], [], [], [], [], [], [], [], [], [], ['林啟賢', '溫良明'], [], [], [], [], [], [], [], [], [], [], [], [], [], [], [], [], ['鄭銘富', '呂家緯', '李春生', '黃建強', '周正華', '高振殷'], [], [], [], [], [], [], [], [], [], [], [], [], [], [], [], [], [], ['鄭博文', '徐金龍', '李大彰'], [], [], [], [], [], [], [], [], [], [], []]\n",
            "0.9958564505934405\n",
            "=================================================\n",
            "./datasetALL/dataset5/tbrain_test.csv\n",
            "Test: 491\n",
            "Testing...\n",
            "[['林依成', '陳中光', '林茂榮', '葉戴燦'], [], [], [], [], [], [], [], [], [], [], [], [], [], [], [], [], ['楊正平', '蔡思庭'], [], [], [], ['陳國帥', '林茂樹', '林嘉凌'], [], [], ['姚慶佳男', '姚慶佳'], [], [], [], [], [], [], [], [], [], ['楊嘉仁'], [], [], [], [], [], [], [], ['藍力凱', '許文豪'], [], [], [], [], [], [], [], [], [], [], [], [], [], [], [], [], [], ['張廣元', '劉宸誌', '吳美惠', '邱春茂', '林正源', '黃裕源', '李俊諺', '薛義雄', '葉正良'], [], [], [], [], [], [], [], [], [], [], [], [], [], [], [], [], [], [], [], [], [], [], [], [], [], [], [], [], [], [], [], [], [], [], [], [], [], [], [], [], [], [], ['謝宥宏'], [], ['傅春生'], [], [], [], [], [], [], [], [], [], [], ['鮑廣廷', '傅崐萁'], [], [], [], [], [], [], [], [], [], [], ['柯賜海'], [], [], [], [], [], [], [], [], [], [], [], [], [], [], [], [], [], [], [], [], [], [], [], [], [], [], [], [], [], [], [], ['林若蕎', '林耿宏'], [], [], [], [], [], [], [], [], [], [], [], [], [], [], [], [], [], [], [], [], [], [], [], [], [], [], [], [], [], [], [], [], [], [], [], [], [], [], [], [], [], [], ['程國忠', '王聖豪'], [], [], [], [], [], [], [], [], [], ['楊昇穎', '周宗賢'], [], [], [], [], [], [], [], [], [], [], [], [], [], [], [], [], [], [], [], [], [], [], [], [], [], [], ['趙崇智', '羅為德', '胡曉菁', '張文發', '高寶勝', '周秉榮', '蘇清俊', '池泳霖', '吳載威', '王令麟', '池燿廷', '祖興華', '柯書宇'], [], [], [], [], [], [], [], [], [], ['陳孝仁'], [], ['詹昭書'], [], [], ['郭政權'], [], [], [], [], [], [], [], [], [], [], [], ['王安石', '宋芷妍'], [], [], [], [], [], [], [], [], [], [], [], [], [], [], [], [], [], [], [], [], [], [], ['陳建湘', '徐文龍', '吳京哲'], [], [], [], [], ['王昆榮', '吳綉琴'], [], [], [], [], [], ['王派宏'], [], [], [], [], [], [], [], [], [], [], [], [], [], [], [], [], [], ['Sreenack'], [], [], [], [], [], [], [], [], [], [], [], [], ['游甯鈞'], [], [], [], [], [], [], [], [], [], [], [], [], [], ['蔣楚明', '呂紹甫'], [], [], [], [], [], [], [], [], [], [], [], ['林銘宏', '蔡維峻'], [], [], ['金大訓', '安鶴軒', '李相澈', '李政勳', '金知勳', '趙義兒', '李俊榮'], [], [], [], [], [], [], ['陳柏維'], [], [], [], [], [], [], [], [], [], [], ['林志聰', '伍政山'], [], [], ['李建邦', '張景祥', '裘振儀', '何宗英', '古少禾'], [], [], [], [], [], [], [], [], ['馮竣嗣', '黃郁蓁', '鄭明淵'], [], [], [], [], [], [], ['楊治渝'], [], [], [], [], [], [], [], [], [], [], [], [], [], ['吳松薰'], [], [], [], [], [], [], [], [], [], [], [], [], [], [], [], [], [], [], [], [], [], [], [], [], [], [], ['李大彰', '徐金龍', '鄭博文'], [], [], [], [], [], [], [], [], ['林倉平'], [], [], [], [], [], [], [], [], [], [], [], [], [], [], [], [], [], [], [], ['黃振榮', '陳武騰'], [], ['吳宇倫'], [], [], [], [], [], [], [], [], [], [], [], [], [], [], [], [], [], [], [], [], []]\n",
            "[['陳中光', '葉戴燦', '林茂榮'], [], [], [], [], [], [], [], [], [], [], [], [], [], [], [], [], ['楊正平', '蔡思庭'], [], [], [], ['林嘉凌', '林茂樹', '陳國帥'], [], [], ['姚慶佳'], [], [], [], [], [], [], [], [], [], ['楊嘉仁'], [], [], [], [], [], [], [], ['藍力凱', '許文豪'], [], [], [], [], [], [], [], [], [], [], [], [], [], [], [], [], [], ['吳美惠', '葉正良', '邱春茂', '黃裕源', '林正源', '張廣元', '薛義雄', '李俊諺', '劉宸誌'], [], [], [], [], [], [], [], [], [], [], [], [], [], [], [], [], [], [], [], [], [], [], [], [], [], [], [], [], [], [], [], [], [], [], [], [], [], [], [], [], [], [], ['謝宥宏'], [], ['傅春生'], [], [], [], [], [], [], [], [], [], [], ['鮑廣廷'], [], [], [], [], [], [], [], [], [], [], ['柯賜海'], [], [], [], [], [], [], [], [], [], [], [], [], [], [], [], [], [], [], [], [], [], [], [], [], [], [], [], [], [], [], [], ['林若蕎', '林耿宏'], [], [], [], [], [], [], [], [], [], [], [], [], [], [], [], [], [], [], [], [], [], [], [], [], [], [], [], [], [], [], [], [], [], [], [], [], [], [], [], [], [], [], ['程國忠'], [], [], [], [], [], [], [], [], [], ['楊昇穎', '周宗賢'], [], [], [], [], [], [], [], [], [], [], [], [], [], [], [], [], [], [], [], [], [], [], [], [], [], [], ['蘇清俊', '趙崇智', '周秉榮', '祖興華', '張文發', '池泳霖', '池燿廷', '羅為德', '高寶勝', '王令麟', '胡曉菁'], [], [], [], [], [], [], [], [], [], ['陳孝仁'], [], ['詹昭書'], [], [], ['郭政權'], [], [], [], [], [], [], [], [], [], [], [], ['宋芷妍', '王安石'], [], [], [], [], [], [], [], [], [], [], [], [], [], [], [], [], [], [], [], [], [], [], ['陳建湘', '徐文龍', '吳京哲'], [], [], [], [], ['吳綉琴', '王昆榮'], [], [], [], [], [], ['王派宏'], [], [], [], [], [], [], [], [], [], [], [], [], [], [], [], [], [], ['Sreenack'], [], [], [], [], [], [], [], [], [], [], [], [], ['游甯鈞'], [], [], [], [], [], [], [], [], [], [], [], [], [], ['呂紹甫', '蔣楚明'], [], [], [], [], [], [], [], [], [], [], [], ['林銘宏', '蔡維峻'], [], [], ['李政勳', '李俊榮', '李相澈', '安鶴軒', '金大訓', '金知勳', '趙義兒'], [], [], [], [], [], [], ['陳柏維'], [], [], [], [], [], [], [], [], [], [], ['伍政山', '林志聰'], [], [], ['李建邦', '裘振儀', '張景祥', '古少禾', '何宗英'], [], [], [], [], [], [], [], [], ['鄭明淵', '黃郁蓁', '馮竣嗣'], [], [], [], [], [], [], ['楊治渝'], [], [], [], [], [], [], [], [], [], [], [], [], [], ['吳松薰'], [], [], [], [], [], [], [], [], [], [], [], [], [], [], [], [], [], [], [], [], [], [], [], [], [], [], ['鄭博文', '徐金龍', '李大彰'], [], [], [], [], [], [], [], [], ['林倉平'], [], [], [], [], [], [], [], [], [], [], [], [], [], [], [], [], [], [], [], ['黃振榮', '陳武騰'], [], ['吳宇倫'], [], [], [], [], [], [], [], [], [], [], [], [], [], [], [], [], [], [], [], [], []]\n",
            "0.9975026670546019\n",
            "=================================================\n",
            "./datasetALL/dataset6/tbrain_test.csv\n",
            "Test: 491\n",
            "Testing...\n",
            "[[], [], [], [], [], [], [], [], [], [], ['龔俊仁'], [], [], [], [], [], [], [], [], [], ['陳正達', '林宏彬', '張建生', '黃志豪', '張宜豐'], [], [], [], [], [], [], [], [], [], [], [], [], [], [], ['陳世坤', '祁興國', '陳素娟'], [], [], [], [], [], [], [], ['鄭銘富', '李春生', '黃建強', '呂家緯', '高振殷', '周正華'], ['謝銘哲'], [], [], [], [], [], [], [], [], [], [], [], [], [], [], [], [], [], [], [], [], [], [], [], ['黃淑頻', '呂東英', '吳成', '曾國輝', '呂建安'], [], [], [], [], [], [], [], [], [], [], [], [], [], [], [], [], [], [], [], [], [], [], [], [], [], [], [], [], [], [], [], [], [], [], [], [], [], [], ['林亨標', '賴粵興', '黃春發', '林健標', '何歡', '鄭達騰'], [], [], [], [], [], [], [], [], [], [], [], [], [], ['牟孝儀', '牟明哲', '陳學敏'], [], [], [], [], [], ['許長裕'], [], [], [], [], [], [], [], [], [], [], [], [], [], [], [], [], [], [], [], [], [], [], [], [], [], [], [], [], [], [], [], [], [], [], ['陳孝仁'], [], [], ['李佰全', '林陀桂英', '李樹欉', '葉玲'], [], [], [], [], [], [], [], [], [], [], [], [], [], [], ['陳啟清', '張月蕉'], [], [], [], [], [], [], [], [], [], [], [], [], [], [], [], [], [], [], [], [], [], [], ['蔡文旭', '孫岳澤', '李欣潔', '張治忠', '黃振龍', '張道銘'], [], [], [], [], [], [], [], [], [], [], [], [], [], [], [], ['儲著光'], [], [], [], [], [], [], ['簡明', '簡以珍', '洪定緯', '馬怡如', '潘信興', '陳勇志', '林玉雀'], [], [], [], ['程國忠', '王聖豪'], [], [], [], [], [], [], [], [], [], [], [], [], [], [], [], [], [], [], [], [], [], [], [], [], [], [], [], [], [], ['張智凱'], [], [], [], [], [], [], [], [], [], [], ['王洪烈'], [], [], [], [], ['賴俊吉'], [], ['莊錫根', '汪誠一'], [], ['吳茂達', '施允澤'], [], [], [], [], [], [], ['葉美麗', '賴麗團', '郭雅雯', '林勇任'], [], [], ['謝宥宏'], [], [], [], [], ['陳偉', '陳偉和', '黃載文', '陳偉Tran Vy'], [], [], [], [], [], [], [], [], [], [], [], [], [], [], [], [], [], [], [], [], [], [], [], [], [], [], [], [], [], [], [], [], [], [], [], [], [], [], [], [], [], [], [], [], [], [], [], ['葉嘉雄', '彭達明', '李世昌', '林振宏'], [], [], ['楊正平', '蔡思庭'], ['彭文潞', '王則因'], [], [], [], [], [], [], [], [], ['柯路加', '唐惠美', '郭文仁'], [], [], [], [], [], [], [], [], ['鄭楠興', '黎美清', '黎清美'], [], [], [], [], [], [], [], [], [], [], ['徐乃麟', '楊強蓉', '董子綺'], [], [], [], ['游甯鈞'], [], [], [], [], [], [], [], [], [], [], [], [], [], [], [], [], [], [], [], [], [], ['胡白玫', '李俊琳'], [], [], [], [], [], [], [], [], [], [], [], [], [], [], [], ['李孟謙', '于曉艷', '于曉燕'], [], [], [], [], [], [], [], [], [], [], [], [], [], [], [], [], [], [], [], ['陳文宏'], [], [], [], [], [], [], [], [], [], [], [], ['畢鈞輝', '蔡賜爵'], [], [], [], [], [], [], ['楊惟欽', '林宏柏'], [], ['周陳文彬', '林采穎'], [], [], [], [], [], [], [], [], [], [], [], [], [], [], [], [], [], [], [], [], [], [], [], [], [], [], [], [], [], [], []]\n",
            "[[], [], [], [], [], [], [], [], [], [], ['龔俊仁'], [], [], [], [], [], [], [], [], [], ['張建生', '林宏彬', '張宜豐', '陳正達', '黃志豪'], [], [], [], [], [], [], [], [], [], [], [], [], [], [], ['陳世坤', '陳素娟', '祁興國'], [], [], [], [], [], [], [], ['鄭銘富', '呂家緯', '李春生', '黃建強', '周正華', '高振殷'], ['謝銘哲'], [], [], [], [], [], [], [], [], [], [], [], [], [], [], [], [], [], [], [], [], [], [], [], ['黃淑頻', '呂建安'], [], [], [], [], [], [], [], [], [], [], [], [], [], [], [], [], [], [], [], [], [], [], [], [], [], [], [], [], [], [], [], [], [], [], [], [], [], [], ['黃春發', '賴粵興', '鄭達騰', '林健標', '何歡'], [], [], [], [], [], [], [], [], [], [], [], [], [], ['陳學敏', '牟孝儀'], [], [], [], [], [], ['許長裕'], [], [], [], [], [], [], [], [], [], [], [], [], [], [], [], [], [], [], [], [], [], [], [], [], [], [], [], [], [], [], [], [], [], [], ['陳孝仁'], [], [], ['李佰全', '葉玲', '林陀桂英'], [], [], [], [], [], [], [], [], [], [], [], [], [], [], ['陳啟清', '張月蕉'], [], [], [], [], [], [], [], [], [], [], [], [], [], [], [], [], [], [], [], [], [], [], ['蔡文旭', '黃振龍', '張治忠', '張道銘', '孫岳澤', '李欣潔'], [], [], [], [], [], [], [], [], [], [], [], [], [], [], [], ['儲著光'], [], [], [], [], [], [], ['洪定緯', '馬怡如', '簡以珍', '林玉雀', '潘信興', '陳勇志'], [], [], [], ['程國忠'], [], [], [], [], [], [], [], [], [], [], [], [], [], [], [], [], [], [], [], [], [], [], [], [], [], [], [], [], [], ['張智凱'], [], [], [], [], [], [], [], [], [], [], ['王洪烈'], [], [], [], [], ['賴俊吉'], [], ['莊錫根'], [], ['施允澤', '施建新', '吳茂達'], [], [], [], [], [], [], ['葉美麗', '郭雅雯', '賴麗團', '林勇任'], [], [], ['謝宥宏'], [], [], [], [], ['陳偉', '黃載文'], [], [], [], [], [], [], [], [], [], [], [], [], [], [], [], [], [], [], [], [], [], [], [], [], [], [], [], [], [], [], [], [], [], [], [], [], [], [], [], [], [], [], [], [], [], [], [], ['葉嘉雄', '彭達明', '林振宏', '李世昌'], [], [], ['楊正平', '蔡思庭'], ['彭文潞'], [], [], [], [], [], [], [], [], ['唐惠美', '郭文仁', '柯路加', '俄鄧．殷艾'], [], [], [], [], [], [], [], [], ['黎清美', '鄭楠興'], [], [], [], [], [], [], [], [], [], [], ['楊強蓉', '董子綺'], [], [], [], ['游甯鈞'], [], [], [], [], [], [], [], [], [], [], [], [], [], [], [], [], [], [], [], [], [], ['胡白玫', '李俊琳'], [], [], [], [], [], [], [], [], [], [], [], [], [], [], [], ['李孟謙', '于曉艷', '于曉燕'], [], [], [], [], [], [], [], [], [], [], [], [], [], [], [], [], [], [], [], ['陳文宏'], [], [], [], [], [], [], [], [], [], [], [], ['蔡賜爵', '畢鈞輝'], [], [], [], [], [], [], ['楊惟欽', '林宏柏'], [], ['林采穎', '周陳文彬'], [], [], [], [], [], [], [], [], [], [], [], [], [], [], [], [], [], [], [], [], [], [], [], [], [], [], [], [], [], [], []]\n",
            "0.9938585514960262\n",
            "=================================================\n",
            "./datasetALL/dataset7/tbrain_test.csv\n",
            "Test: 491\n",
            "Testing...\n",
            "[[], [], [], [], ['吳洛瑜', '黃天一', '黃啟禎'], [], [], ['林聖凱', '吳佳駿'], [], [], [], [], [], [], [], [], ['吳麗玲'], [], [], [], [], ['吳茂達', '施允澤'], [], [], [], [], [], [], [], [], [], [], [], [], ['蕫繆竹怡', '繆竹怡'], [], [], [], [], [], [], [], [], [], [], [], ['王益洲'], ['卓國華'], [], [], [], ['彭文潞', '王則因'], [], [], [], [], [], [], [], [], [], [], [], [], [], [], [], [], [], [], [], [], [], [], [], [], [], [], [], [], [], [], [], [], [], ['林亨標', '賴粵興', '黃春發', '林健標', '何歡', '鄭達騰'], [], [], [], [], [], [], [], [], [], [], [], [], [], [], [], [], [], [], [], [], ['儲著光'], [], [], [], [], [], [], [], [], [], [], [], [], [], [], [], [], [], [], [], [], [], [], [], [], [], [], [], [], [], [], [], [], [], [], [], [], [], [], ['王昆榮', '吳綉琴'], [], [], [], [], [], [], [], [], [], [], [], [], [], [], [], [], [], [], [], [], [], [], [], [], [], [], [], [], ['林志聰', '伍政山'], [], [], ['李士綸', '吳哲瑋李'], [], [], ['翁茂鍾'], [], [], [], [], [], [], [], [], [], [], [], [], [], [], ['陳長明', '施金樹', '潘富民'], [], [], [], [], [], [], [], [], [], [], [], [], [], [], [], [], [], [], [], [], [], [], [], [], [], [], [], [], [], [], [], [], [], [], [], [], [], [], [], [], [], [], [], [], ['游朝旭'], [], [], ['張哲維', '柯志龍'], [], [], [], [], [], [], [], [], [], [], [], [], [], [], [], [], ['張慶龍', '許利發', '楊政錦'], [], [], [], [], [], [], [], [], [], [], [], [], [], [], [], [], [], [], [], [], [], [], [], ['何文安', '翁朝正', '黃郁文', '翁定澤'], [], [], [], [], [], [], [], [], [], [], [], [], [], [], [], ['吳坤錦'], ['游世一', '趙建銘', '趙玉柱'], [], [], [], [], [], [], [], [], [], [], [], [], [], [], [], [], [], [], [], [], [], ['陳西元', '黃文焱', '李深淵', '賴建誠'], [], [], ['黃傳宗'], [], [], [], [], [], [], [], [], [], [], [], [], [], [], [], [], [], [], [], [], ['侯君鍵'], [], [], [], ['吳運豐'], ['顏政德'], ['陳逢璿', '張志偉', '周麗真'], [], [], [], [], ['楊明達'], [], [], [], [], [], [], [], [], [], ['高盟傑'], [], [], [], [], [], [], [], ['楊仕豪', '尤嵩斌', '楊仕銘'], [], [], [], [], [], [], ['游甯鈞'], [], [], [], [], [], [], [], [], [], [], [], ['徐豪雄'], [], [], [], [], [], [], [], [], [], [], [], [], ['林豪', '詹博翔', '林坤星', '陳威愷', '張琨典'], [], [], [], [], [], [], [], [], [], [], [], [], ['楊哲灃', '陳俞雄', '楊文值', '楊士弘', '歐彥志', '張東耀'], [], [], [], [], [], [], [], [], [], [], [], [], [], [], [], [], [], [], [], [], [], [], [], [], [], [], [], [], [], [], [], ['吳明正', '林明忠', '陳茂嘉', '常梅峰', '胡金忞', '何吳惠珠', '何育仁'], [], [], [], [], [], [], [], [], [], [], [], [], [], [], [], [], [], ['張安樂', '張瑋', '李新一', '張馥堂', '王姝茵', '張陳淑媜'], [], [], [], [], [], [], [], [], [], ['陳淳伍'], [], [], [], [], [], [], [], [], []]\n",
            "[[], [], [], [], ['黃天一', '吳洛瑜', '黃啟禎'], [], [], ['吳佳駿', '林聖凱'], [], [], [], [], [], [], [], [], ['吳麗玲'], [], [], [], [], ['施允澤', '施建新', '吳茂達'], [], [], [], [], [], [], [], [], [], [], [], [], ['繆竹怡'], [], [], [], [], [], [], [], [], [], [], [], ['王益洲'], ['卓國華'], [], [], [], ['彭文潞'], [], [], [], [], [], [], [], [], [], [], [], [], [], [], [], [], [], [], [], [], [], [], [], [], [], [], [], [], [], [], [], [], [], ['黃春發', '賴粵興', '鄭達騰', '林健標', '何歡'], [], [], [], [], [], [], [], [], [], [], [], [], [], [], [], [], [], [], [], [], ['儲著光'], [], [], [], [], [], [], [], [], [], [], [], [], [], [], [], [], [], [], [], [], [], [], [], [], [], [], [], [], [], [], [], [], [], [], [], [], [], [], ['吳綉琴', '王昆榮'], [], [], [], [], [], [], [], [], [], [], [], [], [], [], [], [], [], [], [], [], [], [], [], [], [], [], [], [], ['伍政山', '林志聰'], [], [], ['李士綸', '吳哲瑋'], [], [], ['翁茂鍾'], [], [], [], [], [], [], [], [], [], [], [], [], [], [], ['潘富民', '陳長明', '施金樹'], [], [], [], [], [], [], [], [], [], [], [], [], [], [], [], [], [], [], [], [], [], [], [], [], [], [], [], [], [], [], [], [], [], [], [], [], [], [], [], [], [], [], [], [], ['游朝旭'], [], [], ['柯志龍', '張哲維'], [], [], [], [], [], [], [], [], [], [], [], [], [], [], [], [], ['張慶龍', '楊政錦'], [], [], [], [], [], [], [], [], [], [], [], [], [], [], [], [], [], [], [], [], [], [], [], ['黃郁文', '翁朝正', '翁定澤', '何文安'], [], [], [], [], [], [], [], [], [], [], [], [], [], [], [], ['吳坤錦'], ['趙建銘', '趙玉柱', '蘇德建', '游世一'], [], [], [], [], [], [], [], [], [], [], [], [], [], [], [], [], [], [], [], [], [], ['李深淵', '黃文焱', '賴建誠', '陳西元'], [], [], ['黃傳宗'], [], [], [], [], [], [], [], [], [], [], [], [], [], [], [], [], [], [], [], [], ['侯君鍵'], [], [], [], ['吳運豐'], ['顏政德'], ['周麗真', '張志偉', '陳逢璿'], [], [], [], [], ['楊明達', '高新'], [], [], [], [], [], [], [], [], [], ['高盟傑'], [], [], [], [], [], [], [], ['楊仕豪', '楊仕銘', '尤嵩斌'], [], [], [], [], [], [], ['游甯鈞'], [], [], [], [], [], [], [], [], [], [], [], ['徐豪雄'], [], [], [], [], [], [], [], [], [], [], [], [], ['林坤星', '林豪', '張琨典', '詹博翔', '陳威愷'], [], [], [], [], [], [], [], [], [], [], [], [], ['楊士弘'], [], [], [], [], [], [], [], [], [], [], [], [], [], [], [], [], [], [], [], [], [], [], [], [], [], [], [], [], [], [], [], ['何育仁', '林明忠', '何吳惠珠', '吳明正', '胡金忞', '常梅峰', '陳茂嘉'], [], [], [], [], [], [], [], [], [], [], [], [], [], [], [], [], [], ['王姝茵', '張陳淑媜', '張安樂', '張瑋', '李新一', '張馥堂'], [], [], [], [], [], [], [], [], [], ['陳淳伍'], [], [], [], [], [], [], [], [], []]\n",
            "0.9941994868675113\n",
            "=================================================\n",
            "./datasetALL/dataset8/tbrain_test.csv\n",
            "Test: 491\n",
            "Testing...\n",
            "[[], ['鄭程維', '李哲銘'], [], [], [], [], [], [], [], [], [], [], [], [], [], [], [], [], [], ['陳世坤', '祁興國', '陳素娟'], [], [], ['林佳葳', '黃奕霖', '葉文豪', '黃國倫', '許鴻呈', '余逸民'], [], [], [], [], [], [], [], [], [], [], [], [], [], [], [], [], [], [], [], [], [], [], [], [], [], [], [], [], [], [], [], ['鍾增林'], [], [], [], [], [], [], [], [], [], ['陳忠廷'], [], [], [], [], [], ['王益洲'], [], [], [], [], [], [], ['張智冠'], [], [], [], [], [], [], [], [], [], [], ['孔朝'], [], [], [], [], [], [], [], [], [], [], [], [], [], [], [], [], [], [], [], [], [], [], [], [], [], [], [], [], [], [], [], [], [], [], [], ['何文安', '翁朝正', '黃郁文', '翁定澤'], [], [], [], [], ['張語庭', '張妍綸', '金濟民'], [], [], [], [], [], ['蔡登裕', '吳勝夫', '廖聰昇', '王協模', '王春容', '郭義禮', '郭再旺'], [], [], [], [], [], [], [], [], [], [], [], [], [], [], [], [], [], [], [], [], [], [], [], [], [], [], [], [], [], [], [], [], [], [], [], [], ['涂皓鈞', '方敏懿', '常偉政'], [], [], [], [], [], [], [], [], [], [], [], [], [], [], [], [], [], [], [], [], [], [], [], [], ['鄭聖儒'], [], [], [], [], [], [], [], ['葉麗珍', '葉麗貞', '陳耀東', '趙鈞震'], [], [], [], [], [], [], [], [], [], [], [], [], [], [], [], [], ['林政賢'], [], [], [], [], [], [], [], [], [], [], [], [], [], [], [], [], [], [], [], [], [], [], [], ['陳清江'], [], [], [], [], [], [], [], ['游甯鈞'], [], [], [], [], [], [], [], [], [], [], ['藍秀琪', '王桂霜', '李威儀'], [], [], [], [], ['王春甡', '江智銓', '王柏森', '江智詮'], [], [], ['王安石', '宋芷妍'], [], [], [], [], [], [], [], ['李大彰', '徐金龍', '鄭博文'], [], [], [], [], [], [], [], [], [], [], [], [], [], [], [], [], ['黃意中', '孫經武'], [], [], [], [], [], [], [], [], ['陳志遇', '陳威廷', '劉欣燕', '陳富榮', '林玉華'], [], [], [], [], [], [], [], [], [], [], [], [], ['    羅吉強', '羅吉強'], [], [], [], [], [], [], ['傅春生'], [], [], [], [], [], ['溫良明', '林啟賢'], [], [], [], [], [], [], [], [], [], ['賴信機'], ['千毅', '鄭又仁', '連千毅'], [], [], [], [], [], [], [], [], [], [], [], [], ['鄭淑珠'], [], [], [], [], ['章世坦'], [], [], [], [], [], [], [], [], [], ['謝銘哲'], [], [], [], [], [], [], [], ['江東原', '張欽堯', '葉大慧', '吳孝昌', '吳國昌', '魏君婷'], [], [], [], [], [], ['鄭又仁', '連千毅'], [], [], [], [], [], [], [], [], [], [], [], [], [], [], [], [], [], [], [], [], [], [], [], [], [], [], [], [], [], [], [], [], [], [], [], [], [], [], [], [], [], [], [], [], [], [], [], [], [], [], [], [], [], [], [], [], [], [], [], [], [], [], ['儲著光'], ['葉清偉', '姜維池', '郭永鴻'], [], [], [], [], [], [], ['周俊誼', '張朝亮'], [], [], [], [], [], [], ['許正雄'], [], [], [], [], [], [], [], [], [], [], [], [], [], [], [], [], [], [], [], [], [], [], [], [], [], []]\n",
            "[[], ['李哲銘', '鄭程維'], [], [], [], [], [], [], [], [], [], [], [], [], [], [], [], [], [], ['陳世坤', '陳素娟', '祁興國'], [], [], ['黃奕霖', '林佳葳', '余逸民', '葉文豪', '許鴻呈'], [], [], [], [], [], [], [], [], [], [], [], [], [], [], [], [], [], [], [], [], [], [], [], [], [], [], [], [], [], [], [], ['鍾增林', '曾國財'], [], [], [], [], [], [], [], [], [], ['陳忠廷'], [], [], [], [], [], ['王益洲'], [], [], [], [], [], [], ['張智冠'], [], [], [], [], [], [], [], [], [], [], ['孔朝'], [], [], [], [], [], [], [], [], [], [], [], [], [], [], [], [], [], [], [], [], [], [], [], [], [], [], [], [], [], [], [], [], [], [], [], ['黃郁文', '翁朝正', '翁定澤', '何文安'], [], [], [], [], ['金濟民', '張妍綸', '張語庭'], [], [], [], [], [], ['王春容', '蔡登裕', '郭再旺', '郭義禮', '吳勝夫', '王協模', '廖聰昇'], [], [], [], [], [], [], [], [], [], [], [], [], [], [], [], [], [], [], [], [], [], [], [], [], [], [], [], [], [], [], [], [], [], [], [], [], ['常偉政', '涂皓鈞'], [], [], [], [], [], [], [], [], [], [], [], [], [], [], [], [], [], [], [], [], [], [], [], [], ['鄭聖儒'], [], [], [], [], [], [], [], ['陳耀東', '葉麗珍', '葉麗貞', '趙鈞震'], [], [], [], [], [], [], [], [], [], [], [], [], [], [], [], [], ['林政賢'], [], [], [], [], [], [], [], [], [], [], [], [], [], [], [], [], [], [], [], [], [], [], [], ['陳清江'], [], [], [], [], [], [], [], ['游甯鈞'], [], [], [], [], [], [], [], [], [], [], ['王桂霜', '李威儀', '藍秀琪'], [], [], [], [], ['王春甡', '王柏森'], [], [], ['宋芷妍', '王安石'], [], [], [], [], [], [], [], ['鄭博文', '徐金龍', '李大彰'], [], [], [], [], [], [], [], [], [], [], [], [], [], [], [], [], ['孫經武', '黃意中'], [], [], [], [], [], [], [], [], ['陳志遇', '林玉華', '陳威廷', '陳富榮', '劉欣燕'], [], [], [], [], [], [], [], [], [], [], [], [], ['羅吉強'], [], [], [], [], [], [], ['傅春生'], [], [], [], [], [], ['林啟賢', '溫良明'], [], [], [], [], [], [], [], [], [], ['賴信機'], ['連千毅', '鄭又仁'], [], [], [], [], [], [], [], [], [], [], [], [], ['鄭淑珠'], [], [], [], [], ['章世坦'], [], [], [], [], [], [], [], [], [], ['謝銘哲'], [], [], [], [], [], [], [], ['張欽堯', '江東原', '葉大慧', '魏君婷', '吳國昌', '吳孝昌'], [], [], [], [], [], ['連千毅', '鄭又仁'], [], [], [], [], [], [], [], [], [], [], [], [], [], [], [], [], [], [], [], [], [], [], [], [], [], [], [], [], [], [], [], [], [], [], [], [], [], [], [], [], [], [], [], [], [], [], [], [], [], [], [], [], [], [], [], [], [], [], [], [], [], [], ['儲著光'], ['葉清偉', '姜維池', '郭永鴻'], [], [], [], [], [], [], ['張朝亮', '周俊誼'], [], [], [], [], [], [], ['許正雄'], [], [], [], [], [], [], [], [], [], [], [], [], [], [], [], [], [], [], [], [], [], [], [], [], [], []]\n",
            "0.9969635252730977\n",
            "=================================================\n",
            "./datasetALL/dataset9/tbrain_test.csv\n",
            "Test: 491\n",
            "Testing...\n",
            "[[], ['游朝旭'], ['馮竣嗣', '黃郁蓁', '鄭明淵'], [], [], ['鄭淑珠'], [], [], [], [], [], ['趙崇伶'], [], [], [], [], [], [], [], [], [], [], [], [], [], [], [], [], [], [], [], [], [], [], [], [], [], [], [], [], [], [], [], [], [], [], [], [], [], [], [], [], [], [], [], [], [], [], [], [], [], [], [], [], [], [], [], [], [], [], [], [], [], [], [], [], [], [], [], [], [], [], [], [], [], ['陳啟清', '張月蕉'], [], [], [], [], [], [], [], [], ['陳文南', '陳瑞禮'], [], [], [], [], [], [], [], [], [], [], [], [], [], [], [], [], [], [], [], [], [], [], [], [], [], [], ['孫林莫', '于求潭'], [], [], [], [], [], [], [], [], [], [], [], [], [], [], [], [], [], [], [], ['陳文南', '陳瑞禮'], [], ['鄭玉珠'], [], [], [], [], [], [], [], [], [], [], [], [], [], [], [], [], [], [], [], [], [], [], [], [], [], [], [], [], [], [], [], [], [], [], [], [], [], [], ['林亨標', '賴粵興', '黃春發', '林健標', '何歡', '鄭達騰'], [], [], [], [], [], [], [], [], [], [], [], [], [], [], [], [], [], [], [], [], [], [], [], [], [], [], [], [], [], [], ['張哲維', '柯志龍'], [], [], [], [], [], [], [], [], ['彭文潞', '王則因'], [], [], ['楊治渝'], [], [], [], [], ['陳清江'], [], [], [], ['陳柏維'], [], [], [], [], [], [], [], [], [], [], [], [], [], [], [], [], [], [], [], ['王毓雅', '羅瑞榮'], [], [], [], ['吳銀嵐', '張安樂', '吳金虎'], [], [], [], [], [], [], [], [], [], [], [], [], [], [], [], [], [], [], [], [], [], [], [], [], [], [], [], [], ['黃俊策'], [], [], ['林文良', '盧文凱', '林秉勳'], [], [], [], [], [], [], [], ['蔡文旭', '孫岳澤', '李欣潔', '張治忠', '黃振龍', '張道銘'], [], [], [], [], [], [], [], [], [], [], [], [], [], [], [], [], [], ['林豪', '詹博翔', '林坤星', '陳威愷', '張琨典'], [], [], [], [], [], [], [], [], [], [], [], [], [], [], [], [], ['蔡文娟'], [], [], [], [], [], [], [], [], [], [], [], [], [], [], [], [], [], [], [], [], [], [], [], [], [], [], [], [], [], [], ['洪進福'], ['徐仲榮', '陳仕修'], [], [], [], [], [], [], [], ['吳運豐'], [], [], [], [], [], [], [], [], [], [], [], [], [], ['林政賢'], ['詹世雄'], ['林銘宏', '蔡維峻'], [], [], [], ['陳正達', '林宏彬', '張建生', '黃志豪', '張宜豐'], [], [], [], [], [], [], [], [], [], [], ['高嘉斌'], [], [], [], [], [], [], [], [], [], [], [], [], [], [], [], [], [], [], [], [], [], [], ['劉奕發', '歐炳辰', '林清井'], [], [], [], [], [], [], [], [], ['傅春生'], [], [], [], ['林進富', '陳明智'], [], [], [], [], [], [], [], [], ['陳長明', '施金樹', '潘富民'], [], [], [], [], [], [], [], [], [], [], [], [], [], [], ['溫良明', '林啟賢'], [], [], [], [], [], [], [], [], [], [], ['林文楨', '吳俊宗'], [], [], [], [], [], [], ['葉嘉雄', '彭達明', '李世昌', '林振宏'], [], [], [], [], [], [], [], []]\n",
            "[[], ['游朝旭'], ['鄭明淵', '黃郁蓁', '馮竣嗣'], [], [], ['鄭淑珠'], [], [], [], [], [], ['趙崇伶'], [], [], [], [], [], [], [], [], [], [], [], [], [], [], [], [], [], [], [], [], [], [], [], [], [], [], [], [], [], [], [], [], [], [], [], [], [], [], [], [], [], [], [], [], [], [], [], [], [], [], [], [], [], [], [], [], [], [], [], [], [], [], [], [], [], [], [], [], [], [], [], [], [], ['陳啟清', '張月蕉'], [], [], [], [], [], [], [], [], ['陳瑞禮', '陳文南'], [], [], [], [], [], [], [], [], [], [], [], [], [], [], [], [], [], [], [], [], [], [], [], [], [], [], ['于求潭', '孫林莫'], [], [], [], [], [], [], [], [], [], [], [], [], [], [], [], [], [], [], [], ['陳瑞禮'], [], ['鄭玉珠'], [], [], [], [], [], [], [], [], [], [], [], [], [], [], [], [], [], [], [], [], [], [], [], [], [], [], [], [], [], [], [], [], [], [], [], [], [], [], ['黃春發', '賴粵興', '鄭達騰', '林健標', '何歡'], [], [], [], [], [], [], [], [], [], [], [], [], [], [], [], [], [], [], [], [], [], [], [], [], [], [], [], [], [], [], ['柯志龍', '張哲維'], [], [], [], [], [], [], [], [], ['彭文潞'], [], [], ['楊治渝'], [], [], [], [], ['陳清江'], [], [], [], ['陳柏維'], [], [], [], [], [], [], [], [], [], [], [], [], [], [], [], [], [], [], [], ['王毓雅', '羅瑞榮'], [], [], [], ['吳金虎', '吳銀嵐'], [], [], [], [], [], [], [], [], [], [], [], [], [], [], [], [], [], [], [], [], [], [], [], [], [], [], [], [], ['黃俊策'], [], [], ['林秉勳', '林文良', '盧文凱'], [], [], [], [], [], [], [], ['蔡文旭', '黃振龍', '張治忠', '張道銘', '孫岳澤', '李欣潔'], [], [], [], [], [], [], [], [], [], [], [], [], [], [], [], [], [], ['林坤星', '林豪', '張琨典', '詹博翔', '陳威愷'], [], [], [], [], [], [], [], [], [], [], [], [], [], [], [], [], ['蔡文娟'], [], [], [], [], [], [], [], [], [], [], [], [], [], [], [], [], [], [], [], [], [], [], [], [], [], [], [], [], [], [], ['洪進福'], ['陳仕修', '徐仲榮'], [], [], [], [], [], [], [], ['吳運豐'], [], [], [], [], [], [], [], [], [], [], [], [], [], ['林政賢'], ['詹世雄'], ['林銘宏', '蔡維峻'], [], [], [], ['張建生', '林宏彬', '張宜豐', '陳正達', '黃志豪'], [], [], [], [], [], [], [], [], [], [], ['高嘉斌'], [], [], [], [], [], [], [], [], [], [], [], [], [], [], [], [], [], [], [], [], [], [], ['歐炳辰', '林清井', '劉奕發'], [], [], [], [], [], [], [], [], ['傅春生'], [], [], [], ['林進富', '陳明智'], [], [], [], [], [], [], [], [], ['潘富民', '陳長明', '施金樹'], [], [], [], [], [], [], [], [], [], [], [], [], [], [], ['林啟賢', '溫良明'], [], [], [], [], [], [], [], [], [], [], ['林文楨', '吳俊宗'], [], [], [], [], [], [], ['葉嘉雄', '彭達明', '林振宏', '李世昌'], [], [], [], [], [], [], [], []]\n",
            "0.9980497438745911\n",
            "=================================================\n",
            "./datasetALL/dataset10/tbrain_test.csv\n",
            "Test: 491\n",
            "Testing...\n",
            "[[], [], [], [], [], [], [], ['許祈文'], ['翁茂鍾'], [], [], [], [], ['吳勝凱'], [], [], [], [], [], [], [], [], [], [], [], [], [], [], [], [], [], [], [], [], [], [], [], [], [], [], [], [], [], [], [], [], [], [], [], [], [], [], [], [], [], [], [], [], [], [], [], ['張志勇', '沈大祥', '江承宏'], [], [], [], [], [], [], [], [], [], [], [], [], [], [], [], [], [], [], [], [], [], [], [], [], [], [], [], ['黃琪'], [], [], [], [], [], [], [], [], [], [], [], [], [], [], [], [], [], [], [], [], [], [], [], [], ['徐炳清', '林進隆'], ['侯君鍵'], [], [], [], [], [], ['王芃迪'], ['秦朝添', '胡原龍'], [], [], [], [], [], [], [], [], [], [], [], [], [], [], [], [], [], [], [], [], ['何培才'], [], [], [], [], [], [], [], [], [], [], [], [], [], [], [], [], [], [], [], [], [], [], [], [], [], [], [], ['鍾增林'], ['房立勳'], [], [], [], [], [], [], [], [], [], [], [], [], [], [], [], [], [], [], [], ['陳清江'], [], [], [], [], [], [], [], [], [], [], [], [], [], [], [], [], [], [], ['陳國帥', '林茂樹', '林嘉凌'], [], [], [], [], [], ['張承平'], [], [], [], [], ['李訓成', '蔡開宇', '王宇正'], ['何文安', '翁朝正', '黃郁文', '翁定澤'], [], [], ['陳銘璋'], [], ['王炳漢', '吳正順'], [], [], [], [], [], [], [], [], [], [], ['王禹婕', '林育賢'], [], [], [], [], [], [], [], [], [], ['蔡文娟'], [], [], [], [], [], ['陳國楨', '周瑞慶', '陳子龍', '林麗令', '蔡豐益', '簡麗珠', '黃雁宸', '夏子茵', '陳東豐', '賴金鑫', '吳松麟', '蔡尚苑', '黃子窈', '陳進村', '李金龍'], [], [], [], [], [], [], [], ['劉銘卿', '劉明發'], [], [], [], [], ['徐仲榮', '陳仕修'], [], [], [], [], [], [], [], [], ['陳富田', '林致成'], [], [], [], [], [], [], [], [], [], [], [], [], [], [], [], [], [], [], [], [], ['陳啟清', '張月蕉'], [], [], [], ['張永泉', '郭明賓'], [], [], [], ['陳長明', '施金樹', '潘富民'], [], [], [], [], [], [], [], [], [], [], [], [], [], [], [], [], [], [], [], [], [], [], [], [], [], ['賈翔傑', '陳慰慈', '張金素', '陳子俊', '陳澄玄'], [], [], [], [], [], [], [], [], [], [], [], [], ['葉鯤璟今', '葉鯤璟'], ['魯德海', '劉吉雄', '呂宗南', '吳東明', '楊自立', '裴振福', '林輝宏'], [], [], [], [], [], [], [], [], [], [], [], [], [], [], [], [], [], [], [], [], ['蒲念慈'], [], [], [], [], [], [], [], [], [], ['孫林莫', '于求潭'], [], [], [], [], [], [], [], [], [], [], [], [], [], [], [], [], [], [], [], [], [], [], [], [], [], [], [], [], [], [], [], [], [], [], [], [], [], ['黃俊策'], [], [], [], [], [], [], [], [], [], [], [], [], [], [], [], [], [], [], ['顏志峰'], [], [], [], [], [], [], [], [], [], [], [], ['吳運豐'], [], [], [], [], [], [], [], [], [], [], [], [], [], [], [], [], [], [], [], ['吳松薰'], [], [], [], [], [], [], [], [], [], [], [], [], [], [], [], [], [], [], [], [], [], [], [], []]\n",
            "[[], [], [], [], [], [], [], ['許祈文'], ['翁茂鍾'], [], [], [], [], ['吳勝凱'], [], [], [], [], [], [], [], [], [], [], [], [], [], [], [], [], [], [], [], [], [], [], [], [], [], [], [], [], [], [], [], [], [], [], [], [], [], [], [], [], [], [], [], [], [], [], [], ['沈大祥', '張志勇', '江承宏'], [], [], [], [], [], [], [], [], [], [], [], [], [], [], [], [], [], [], [], [], [], [], [], [], [], [], [], ['黃照岡'], [], [], [], [], [], [], [], [], [], [], [], [], [], [], [], [], [], [], [], [], [], [], [], [], ['林進隆', '徐炳清'], ['侯君鍵'], [], [], [], [], [], ['王芃迪'], ['胡原龍', '秦朝添'], [], [], [], [], [], [], [], [], [], [], [], [], [], [], [], [], [], [], [], [], ['何培才'], [], [], [], [], [], [], [], [], [], [], [], [], [], [], [], [], [], [], [], [], [], [], [], [], [], [], [], ['鍾增林', '曾國財'], ['房立勳'], [], [], [], [], [], [], [], [], [], [], [], [], [], [], [], [], [], [], [], ['陳清江'], [], [], [], [], [], [], [], [], [], [], [], [], [], [], [], [], [], [], ['林嘉凌', '林茂樹', '陳國帥'], [], [], [], [], [], ['張承平'], [], [], [], [], ['蔡開宇', '王宇正', '李訓成'], ['黃郁文', '翁朝正', '翁定澤', '何文安'], [], [], ['陳銘璋'], [], ['吳正順', '王炳漢'], [], [], [], [], [], [], [], [], [], [], ['王禹婕', '林育賢'], [], [], [], [], [], [], [], [], [], ['蔡文娟'], [], [], [], [], [], ['周瑞慶', '黃子窈', '賴金鑫', '吳松麟', '簡麗珠', '黃雁宸', '林麗令', '陳國楨', '蔡尚苑', '李金龍', '夏子茵', '陳東豐', '陳進村', '蔡豐益'], [], [], [], [], [], [], [], ['劉銘卿'], [], [], [], [], ['陳仕修', '徐仲榮'], [], [], [], [], [], [], [], [], ['林致成'], [], [], [], [], [], [], [], [], [], [], [], [], [], [], [], [], [], [], [], [], ['陳啟清', '張月蕉'], [], [], [], ['張永泉', '郭明賓'], [], [], [], ['潘富民', '陳長明', '施金樹'], [], [], [], [], [], [], [], [], [], [], [], [], [], [], [], [], [], [], [], [], [], [], [], [], [], ['陳澄玄', '張金素', '賈翔傑', '陳子俊'], [], [], [], [], [], [], [], [], [], [], [], [], ['葉鯤璟'], [], [], [], [], [], [], [], [], [], [], [], [], [], [], [], [], [], [], [], [], [], ['蒲念慈'], [], [], [], [], [], [], [], [], [], ['于求潭', '孫林莫'], [], [], [], [], [], [], [], [], [], [], [], [], [], [], [], [], [], [], [], [], [], [], [], [], [], [], [], [], [], [], [], [], [], [], [], [], [], ['黃俊策'], [], [], [], [], [], [], [], [], [], [], [], [], [], [], [], [], [], [], ['顏志峰'], [], [], [], [], [], [], [], [], [], [], [], ['吳運豐'], [], [], [], [], [], [], [], ['黃昱凱'], [], [], [], [], [], [], [], [], [], [], [], ['吳松薰'], [], [], [], [], [], [], [], [], [], [], [], [], [], [], [], [], [], [], [], [], [], [], [], []]\n",
            "0.9908779486699285\n",
            "=================================================\n"
          ],
          "name": "stdout"
        }
      ]
    }
  ]
}