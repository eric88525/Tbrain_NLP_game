{
 "cells": [
  {
   "cell_type": "code",
   "execution_count": 31,
   "metadata": {},
   "outputs": [],
   "source": [
    "import torch\n",
    "import torch.nn as nn, optim\n",
    "from transformers import *\n",
    "import pandas as pd\n",
    "import ast\n",
    "import copy\n",
    "import os\n",
    "from opencc import OpenCC\n",
    "\n",
    "# Model\n",
    "class bertwwm(nn.Module):\n",
    "    def __init__(self):\n",
    "        super(bertwwm,self).__init__()\n",
    "        self.bert_model = BertModel.from_pretrained(\"hfl/chinese-bert-wwm\")\n",
    "        self.tokenizer = BertTokenizer.from_pretrained(\"hfl/chinese-bert-wwm\")\n",
    "        self.bi_decoder = nn.Sequential(\n",
    "            nn.Linear(768,512)\n",
    "            ,nn.Dropout(0.1)\n",
    "            ,nn.Linear(512,256)\n",
    "            ,nn.Linear(256,64)\n",
    "            ,nn.Linear(64,1)\n",
    "            ,nn.Sigmoid()\n",
    "        )\n",
    "    def forward(self,passage):\n",
    "        # input a string\n",
    "        input_ids = torch.tensor([self.tokenizer.encode(\"passage\")])\n",
    "        all_hidden_states, all_attentions = self.bert_model(input_ids)[-2:]\n",
    "        binary = self.bi_decoder(all_attentions).squeeze()\n",
    "        return binary"
   ]
  },
  {
   "cell_type": "code",
   "execution_count": null,
   "metadata": {},
   "outputs": [],
   "source": [
    "def test(model,device):\n",
    "    path = './test.csv'\n",
    "    data = pd.load_csv(path)\n",
    "    data =  data.drop(columns=['hyperlink','content','html','clean_content']).values.tolist()\n",
    "    model.eval()\n",
    "    loss, size = 0, 0\n",
    "    criterion = nn.BCELoss()\n",
    "    for i,n_id,name,content in enumerate(data):\n",
    "        \n",
    "        if len(ast.literal_eval(name)) is 0:    \n",
    "            label = torch.Tensor([0]).to(gpu)\n",
    "        else:\n",
    "            label = torch.Tensor([1]).to(gpu)\n",
    "        size +=1\n",
    "        loss += criterion(model(content),label)\n",
    "    loss /= size\n",
    "    \n",
    "    return loss"
   ]
  },
  {
   "cell_type": "code",
   "execution_count": null,
   "metadata": {},
   "outputs": [],
   "source": [
    "# lr  : learning rate\n",
    "# w_d :weight_decay\n",
    "\n",
    "def train(data,lr_rate=0.001 ,w_d=5e-5 ,device):\n",
    "  \n",
    "    model = bertwwm().to(device)\n",
    "    parameters = filter(lambda p: p.requires_grad, model.parameters())\n",
    "    optimizer = optim.Adadelta(parameters, lr=lr_rate, weight_decay=w_d)\n",
    "    criterion = nn.BCELoss()\n",
    "    \n",
    "    cc = OpenCC('tw2sp')\n",
    "    for i,n_id,name,content in enumerate(data):\n",
    "        optimizer.zero_grad()\n",
    "        print(f'News id: {n_id}')\n",
    "        name = ast.literal_eval(name)        \n",
    "        pred = model(cc.convert(content))\n",
    "        if len(name) is 0:    \n",
    "            label = torch.Tensor([0]).to(gpu)\n",
    "        else:\n",
    "            label = torch.Tensor([1]).to(gpu)\n",
    "        loss = criterion(x,y) \n",
    "        loss.backward()  \n",
    "        optimizer.step()\n",
    "        if (i+1) % 100 is 0:\n",
    "            test_loss = test()\n",
    "    return best_model"
   ]
  },
  {
   "cell_type": "code",
   "execution_count": null,
   "metadata": {},
   "outputs": [],
   "source": [
    "def main():\n",
    "    data = pd.load_csv('./train')\n",
    "    train(data)\n",
    "    \n",
    "    "
   ]
  },
  {
   "cell_type": "code",
   "execution_count": null,
   "metadata": {},
   "outputs": [],
   "source": [
    "if __name__ == '__main__':\n",
    "    main()\n"
   ]
  },
  {
   "cell_type": "code",
   "execution_count": null,
   "metadata": {},
   "outputs": [],
   "source": []
  }
 ],
 "metadata": {
  "kernelspec": {
   "display_name": "Python 3",
   "language": "python",
   "name": "python3"
  },
  "language_info": {
   "codemirror_mode": {
    "name": "ipython",
    "version": 3
   },
   "file_extension": ".py",
   "mimetype": "text/x-python",
   "name": "python",
   "nbconvert_exporter": "python",
   "pygments_lexer": "ipython3",
   "version": "3.6.9"
  }
 },
 "nbformat": 4,
 "nbformat_minor": 2
}
